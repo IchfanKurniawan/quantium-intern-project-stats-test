{
 "cells": [
  {
   "cell_type": "markdown",
   "metadata": {},
   "source": [
    "## Project Context\n",
    "\n",
    "This project is the next step of [the previous project here](https://github.com/IchfanKurniawan/quantium-intern-project).  \n",
    "\n",
    "You are part of Quantium’s retail analytics team and have been approached by your client, the Category Manager for Chips, has asked us to test the impact of the new trial layouts with a data driven recommendation to whether or not the trial layout should be rolled out to all their stores.  \n",
    "\n",
    "The client has selected store numbers 77, 86 and 88 as the treatment stores and run the experimentation on start of February 2019 - end of April 2019. Let's analyze if the new layout influences the store performance.  "
   ]
  },
  {
   "cell_type": "markdown",
   "metadata": {},
   "source": [
    "---  \n",
    "---  \n",
    "\n",
    "## Summary\n",
    "\n",
    "Store numbers 77, 86, and 88 has been changed the layouts for experimentation in the trial period (Feb 2019 - Apr 2019). By using the t-test independent method, the daily sales of the treatment stores are compared to the control stores.  \n",
    "Null-hypothesis:there is no difference of daily sales between treatment store & control store in the trial period  \n",
    "\n",
    "Alternative-hypothesis: there is a difference of daily sales between treatment store & similar store in the trial period  \n",
    "\n",
    "The results show that for all of treatment stores, there are no statistically significance (p-value > 0.05) differences between the treatment stores & the control stores. The results of t-test are as follow:  \n",
    "\n",
    "| Analysis      | Statistics | p-value |\n",
    "| ----------- | ----------- | ----------- |\n",
    "| Store 77      | -1.798       | 0.073       |\n",
    "| Store 86      | -1.581       | 0.115       |\n",
    "| Store 88      | -1.694       | 0.091       |"
   ]
  },
  {
   "cell_type": "markdown",
   "metadata": {},
   "source": [
    "## Content\n",
    "- [Project Context](#Project-Context)  \n",
    "- [Summary](#Summary)  \n",
    "- [Content](#Content)  \n",
    "- [Data Preparation](#Data-Preparation)    \n",
    "- [Analysis for Store 77](#Analysis-for-Store-77)  \n",
    "- [Analysis for Store 86](#Analysis-for-Store-86)  \n",
    "- [Analysis for Store 88](#Analysis-for-Store-88)  "
   ]
  },
  {
   "cell_type": "markdown",
   "metadata": {},
   "source": [
    "## Data Preparation"
   ]
  },
  {
   "cell_type": "code",
   "execution_count": 1,
   "metadata": {},
   "outputs": [],
   "source": [
    "import numpy as np\n",
    "import pandas as pd\n",
    "import matplotlib.pyplot as plt\n",
    "import seaborn as sns\n",
    "from sklearn.preprocessing import MinMaxScaler\n",
    "\n",
    "pd.set_option('display.max_columns', None)\n",
    "pd.set_option('display.float_format', '{:.4f}'.format)\n",
    "sns.set()"
   ]
  },
  {
   "cell_type": "code",
   "execution_count": 2,
   "metadata": {},
   "outputs": [
    {
     "data": {
      "text/html": [
       "<div>\n",
       "<style scoped>\n",
       "    .dataframe tbody tr th:only-of-type {\n",
       "        vertical-align: middle;\n",
       "    }\n",
       "\n",
       "    .dataframe tbody tr th {\n",
       "        vertical-align: top;\n",
       "    }\n",
       "\n",
       "    .dataframe thead th {\n",
       "        text-align: right;\n",
       "    }\n",
       "</style>\n",
       "<table border=\"1\" class=\"dataframe\">\n",
       "  <thead>\n",
       "    <tr style=\"text-align: right;\">\n",
       "      <th></th>\n",
       "      <th>LYLTY_CARD_NBR</th>\n",
       "      <th>DATE</th>\n",
       "      <th>STORE_NBR</th>\n",
       "      <th>TXN_ID</th>\n",
       "      <th>PROD_NBR</th>\n",
       "      <th>PROD_NAME</th>\n",
       "      <th>PROD_QTY</th>\n",
       "      <th>TOT_SALES</th>\n",
       "      <th>PACK_SIZE</th>\n",
       "      <th>BRAND</th>\n",
       "      <th>LIFESTAGE</th>\n",
       "      <th>PREMIUM_CUSTOMER</th>\n",
       "    </tr>\n",
       "  </thead>\n",
       "  <tbody>\n",
       "    <tr>\n",
       "      <th>0</th>\n",
       "      <td>1000</td>\n",
       "      <td>2018-10-17</td>\n",
       "      <td>1</td>\n",
       "      <td>1</td>\n",
       "      <td>5</td>\n",
       "      <td>Natural Chip        Compny SeaSalt175g</td>\n",
       "      <td>2</td>\n",
       "      <td>6.0000</td>\n",
       "      <td>175</td>\n",
       "      <td>NATURAL</td>\n",
       "      <td>YOUNG SINGLES/COUPLES</td>\n",
       "      <td>Premium</td>\n",
       "    </tr>\n",
       "    <tr>\n",
       "      <th>1</th>\n",
       "      <td>1002</td>\n",
       "      <td>2018-09-16</td>\n",
       "      <td>1</td>\n",
       "      <td>2</td>\n",
       "      <td>58</td>\n",
       "      <td>Red Rock Deli Chikn&amp;Garlic Aioli 150g</td>\n",
       "      <td>1</td>\n",
       "      <td>2.7000</td>\n",
       "      <td>150</td>\n",
       "      <td>RRD</td>\n",
       "      <td>YOUNG SINGLES/COUPLES</td>\n",
       "      <td>Mainstream</td>\n",
       "    </tr>\n",
       "    <tr>\n",
       "      <th>2</th>\n",
       "      <td>1003</td>\n",
       "      <td>2019-03-07</td>\n",
       "      <td>1</td>\n",
       "      <td>3</td>\n",
       "      <td>52</td>\n",
       "      <td>Grain Waves Sour    Cream&amp;Chives 210G</td>\n",
       "      <td>1</td>\n",
       "      <td>3.6000</td>\n",
       "      <td>210</td>\n",
       "      <td>GRNWVES</td>\n",
       "      <td>YOUNG FAMILIES</td>\n",
       "      <td>Budget</td>\n",
       "    </tr>\n",
       "    <tr>\n",
       "      <th>3</th>\n",
       "      <td>1003</td>\n",
       "      <td>2019-03-08</td>\n",
       "      <td>1</td>\n",
       "      <td>4</td>\n",
       "      <td>106</td>\n",
       "      <td>Natural ChipCo      Hony Soy Chckn175g</td>\n",
       "      <td>1</td>\n",
       "      <td>3.0000</td>\n",
       "      <td>175</td>\n",
       "      <td>NATURAL</td>\n",
       "      <td>YOUNG FAMILIES</td>\n",
       "      <td>Budget</td>\n",
       "    </tr>\n",
       "    <tr>\n",
       "      <th>4</th>\n",
       "      <td>1004</td>\n",
       "      <td>2018-11-02</td>\n",
       "      <td>1</td>\n",
       "      <td>5</td>\n",
       "      <td>96</td>\n",
       "      <td>WW Original Stacked Chips 160g</td>\n",
       "      <td>1</td>\n",
       "      <td>1.9000</td>\n",
       "      <td>160</td>\n",
       "      <td>WOOLWORTHS</td>\n",
       "      <td>OLDER SINGLES/COUPLES</td>\n",
       "      <td>Mainstream</td>\n",
       "    </tr>\n",
       "  </tbody>\n",
       "</table>\n",
       "</div>"
      ],
      "text/plain": [
       "   LYLTY_CARD_NBR        DATE  STORE_NBR  TXN_ID  PROD_NBR  \\\n",
       "0            1000  2018-10-17          1       1         5   \n",
       "1            1002  2018-09-16          1       2        58   \n",
       "2            1003  2019-03-07          1       3        52   \n",
       "3            1003  2019-03-08          1       4       106   \n",
       "4            1004  2018-11-02          1       5        96   \n",
       "\n",
       "                                PROD_NAME  PROD_QTY  TOT_SALES  PACK_SIZE  \\\n",
       "0  Natural Chip        Compny SeaSalt175g         2     6.0000        175   \n",
       "1   Red Rock Deli Chikn&Garlic Aioli 150g         1     2.7000        150   \n",
       "2   Grain Waves Sour    Cream&Chives 210G         1     3.6000        210   \n",
       "3  Natural ChipCo      Hony Soy Chckn175g         1     3.0000        175   \n",
       "4          WW Original Stacked Chips 160g         1     1.9000        160   \n",
       "\n",
       "        BRAND              LIFESTAGE PREMIUM_CUSTOMER  \n",
       "0     NATURAL  YOUNG SINGLES/COUPLES          Premium  \n",
       "1         RRD  YOUNG SINGLES/COUPLES       Mainstream  \n",
       "2     GRNWVES         YOUNG FAMILIES           Budget  \n",
       "3     NATURAL         YOUNG FAMILIES           Budget  \n",
       "4  WOOLWORTHS  OLDER SINGLES/COUPLES       Mainstream  "
      ]
     },
     "execution_count": 2,
     "metadata": {},
     "output_type": "execute_result"
    }
   ],
   "source": [
    "df = pd.read_csv('..\\\\dataset\\\\QVI_data.csv')\n",
    "df.head()"
   ]
  },
  {
   "cell_type": "code",
   "execution_count": 4,
   "metadata": {
    "collapsed": true
   },
   "outputs": [
    {
     "name": "stdout",
     "output_type": "stream",
     "text": [
      "<class 'pandas.core.frame.DataFrame'>\n",
      "RangeIndex: 264834 entries, 0 to 264833\n",
      "Data columns (total 12 columns):\n",
      " #   Column            Non-Null Count   Dtype  \n",
      "---  ------            --------------   -----  \n",
      " 0   LYLTY_CARD_NBR    264834 non-null  int64  \n",
      " 1   DATE              264834 non-null  object \n",
      " 2   STORE_NBR         264834 non-null  int64  \n",
      " 3   TXN_ID            264834 non-null  int64  \n",
      " 4   PROD_NBR          264834 non-null  int64  \n",
      " 5   PROD_NAME         264834 non-null  object \n",
      " 6   PROD_QTY          264834 non-null  int64  \n",
      " 7   TOT_SALES         264834 non-null  float64\n",
      " 8   PACK_SIZE         264834 non-null  int64  \n",
      " 9   BRAND             264834 non-null  object \n",
      " 10  LIFESTAGE         264834 non-null  object \n",
      " 11  PREMIUM_CUSTOMER  264834 non-null  object \n",
      "dtypes: float64(1), int64(6), object(5)\n",
      "memory usage: 24.2+ MB\n"
     ]
    }
   ],
   "source": [
    "df.info()"
   ]
  },
  {
   "cell_type": "code",
   "execution_count": 3,
   "metadata": {},
   "outputs": [],
   "source": [
    "df['DATE'] = pd.to_datetime(df['DATE'], format='%Y-%m-%d')"
   ]
  },
  {
   "cell_type": "code",
   "execution_count": 6,
   "metadata": {
    "collapsed": true
   },
   "outputs": [
    {
     "data": {
      "text/plain": [
       "array([  1,   2,   3,   4,   5,   6,   7,   8,   9,  10,  11,  12,  13,\n",
       "        14,  15,  16,  17,  18,  19,  20,  21,  22,  23,  24,  25,  26,\n",
       "        27,  28,  29,  30,  31,  32,  33,  34,  35,  36,  37,  38,  39,\n",
       "        40,  41,  42,  43,  44,  45,  46,  47,  48,  49,  50,  51,  52,\n",
       "        53,  54,  55,  56,  57,  58,  59,  60,  61,  62,  63,  64,  65,\n",
       "        66,  67,  68,  69,  70,  71,  72,  73,  74,  75,  76,  77,  78,\n",
       "        79,  80,  81,  82,  83,  84,  85,  86, 155,  87,  88,  89,  90,\n",
       "        91,  92,  93,  94,  95,  96,  97,  98,  99, 100, 101, 102, 103,\n",
       "       104, 105, 106, 107, 108, 109, 110, 111, 112, 113, 114, 115, 116,\n",
       "       117, 118, 119, 120, 121, 122, 123, 124, 125, 126, 127, 128, 129,\n",
       "       130, 131, 132, 133, 134, 135, 136, 137, 138, 139, 140, 141, 142,\n",
       "       143, 144, 145, 146, 147, 148, 149, 150, 151, 152, 153, 154, 156,\n",
       "       157, 158, 159, 160, 161, 162, 163, 164, 165, 166, 167, 168, 169,\n",
       "       170, 171, 172, 173, 174, 175, 176, 177, 178, 179, 180, 181, 182,\n",
       "       183, 184, 185, 186, 187, 188, 189, 190, 191, 192, 193, 194, 195,\n",
       "       196, 197, 198, 199, 200, 201, 202, 203, 204, 205, 206, 207, 208,\n",
       "       209, 210, 211, 212, 213, 214, 215, 216, 217, 218, 219, 220, 221,\n",
       "       222, 223, 224, 225, 226, 227, 228, 229, 230, 231, 232, 233, 234,\n",
       "       235, 236, 237, 238, 239, 240, 241, 242, 243, 244, 245, 246, 247,\n",
       "       248, 249, 250, 251, 252, 253, 254, 255, 256, 257, 258, 259, 260,\n",
       "       261, 262, 263, 264, 265, 266, 267, 268, 269, 270, 271, 272],\n",
       "      dtype=int64)"
      ]
     },
     "execution_count": 6,
     "metadata": {},
     "output_type": "execute_result"
    }
   ],
   "source": [
    "df['STORE_NBR'].unique()"
   ]
  },
  {
   "cell_type": "code",
   "execution_count": 4,
   "metadata": {},
   "outputs": [],
   "source": [
    "#### pre-trial period < 2019-02-01\n",
    "#### trial period 2019-02-01 - 2019-03-31\n",
    "\n",
    "df['MONTH'] = df['DATE'].apply(lambda x: x.month)\n",
    "df_pretrial = df[df['DATE'] < pd.to_datetime('2019-02-01', format='%Y-%m-%d')]"
   ]
  },
  {
   "cell_type": "code",
   "execution_count": 5,
   "metadata": {},
   "outputs": [],
   "source": [
    "#### aggregation (per month & store number) - total sales | number unique customer\n",
    "\n",
    "df_pretrial_group = df_pretrial.groupby(['STORE_NBR', 'MONTH']).agg({'TOT_SALES': np.sum, \n",
    "                                                                     'LYLTY_CARD_NBR': pd.Series.nunique})"
   ]
  },
  {
   "cell_type": "code",
   "execution_count": 6,
   "metadata": {},
   "outputs": [],
   "source": [
    "df_pretrial_group.columns = ['total_sales', 'n_unique_cust']"
   ]
  },
  {
   "cell_type": "code",
   "execution_count": 7,
   "metadata": {},
   "outputs": [
    {
     "data": {
      "text/html": [
       "<div>\n",
       "<style scoped>\n",
       "    .dataframe tbody tr th:only-of-type {\n",
       "        vertical-align: middle;\n",
       "    }\n",
       "\n",
       "    .dataframe tbody tr th {\n",
       "        vertical-align: top;\n",
       "    }\n",
       "\n",
       "    .dataframe thead th {\n",
       "        text-align: right;\n",
       "    }\n",
       "</style>\n",
       "<table border=\"1\" class=\"dataframe\">\n",
       "  <thead>\n",
       "    <tr style=\"text-align: right;\">\n",
       "      <th></th>\n",
       "      <th>STORE_NBR</th>\n",
       "      <th>MONTH</th>\n",
       "      <th>total_sales</th>\n",
       "      <th>n_unique_cust</th>\n",
       "    </tr>\n",
       "  </thead>\n",
       "  <tbody>\n",
       "    <tr>\n",
       "      <th>0</th>\n",
       "      <td>1</td>\n",
       "      <td>1</td>\n",
       "      <td>154.8000</td>\n",
       "      <td>35</td>\n",
       "    </tr>\n",
       "    <tr>\n",
       "      <th>1</th>\n",
       "      <td>1</td>\n",
       "      <td>7</td>\n",
       "      <td>206.9000</td>\n",
       "      <td>49</td>\n",
       "    </tr>\n",
       "    <tr>\n",
       "      <th>2</th>\n",
       "      <td>1</td>\n",
       "      <td>8</td>\n",
       "      <td>176.1000</td>\n",
       "      <td>42</td>\n",
       "    </tr>\n",
       "    <tr>\n",
       "      <th>3</th>\n",
       "      <td>1</td>\n",
       "      <td>9</td>\n",
       "      <td>278.8000</td>\n",
       "      <td>59</td>\n",
       "    </tr>\n",
       "    <tr>\n",
       "      <th>4</th>\n",
       "      <td>1</td>\n",
       "      <td>10</td>\n",
       "      <td>188.1000</td>\n",
       "      <td>44</td>\n",
       "    </tr>\n",
       "  </tbody>\n",
       "</table>\n",
       "</div>"
      ],
      "text/plain": [
       "   STORE_NBR  MONTH  total_sales  n_unique_cust\n",
       "0          1      1     154.8000             35\n",
       "1          1      7     206.9000             49\n",
       "2          1      8     176.1000             42\n",
       "3          1      9     278.8000             59\n",
       "4          1     10     188.1000             44"
      ]
     },
     "execution_count": 7,
     "metadata": {},
     "output_type": "execute_result"
    }
   ],
   "source": [
    "df_pretrial_group.reset_index(inplace=True)\n",
    "df_pretrial_group.head()"
   ]
  },
  {
   "cell_type": "code",
   "execution_count": 98,
   "metadata": {},
   "outputs": [],
   "source": [
    "# df_temp = pd.merge(df_pretrial_group[df_pretrial_group['STORE_NBR'] == 77], \n",
    "#                        df_pretrial_group[df_pretrial_group['STORE_NBR'] == 1],\n",
    "#                        how='inner',\n",
    "#                        on='MONTH')"
   ]
  },
  {
   "cell_type": "code",
   "execution_count": null,
   "metadata": {},
   "outputs": [],
   "source": [
    "# df_temp.columns"
   ]
  },
  {
   "cell_type": "markdown",
   "metadata": {},
   "source": [
    "## Analysis for Store 77"
   ]
  },
  {
   "cell_type": "code",
   "execution_count": 8,
   "metadata": {},
   "outputs": [],
   "source": [
    "#### calculate the correlation of total sales & number of customers for each store & treatment store\n",
    "#### calculate the difference in magnitude of total sales & number of customers for each store & treatment store\n",
    "\n",
    "#### store_a | store_b | corr_sales | corr_cust | diff_mag_sales | diff_mag_cust\n",
    "\n",
    "store_a = []\n",
    "store_b = []\n",
    "corr_sales = []\n",
    "corr_cust = []\n",
    "diff_mag_sales = []\n",
    "diff_mag_cust = []\n",
    "\n",
    "store_nbrs = [store_nbr for store_nbr in df_pretrial_group['STORE_NBR'].unique()]\n",
    "treatment_store_nbr = 77\n",
    "\n",
    "for store_nbr in store_nbrs:\n",
    "    df_temp = pd.merge(df_pretrial_group[df_pretrial_group['STORE_NBR'] == treatment_store_nbr], \n",
    "                       df_pretrial_group[df_pretrial_group['STORE_NBR'] == store_nbr],\n",
    "                       how='inner',\n",
    "                       on='MONTH')\n",
    "    \n",
    "    col_corr_sales = df_temp[['total_sales_x', 'total_sales_y']].corr().loc['total_sales_x', 'total_sales_y']\n",
    "    col_corr_cust = df_temp[['n_unique_cust_x', 'n_unique_cust_y']].corr().loc['n_unique_cust_x', 'n_unique_cust_y']\n",
    "    col_diff_mag_sales = np.abs(df_temp['total_sales_x'].mean() - df_temp['total_sales_y'].mean())\n",
    "    col_diff_mag_cust = np.abs(df_temp['n_unique_cust_x'].mean() - df_temp['n_unique_cust_y'].mean())\n",
    "    \n",
    "    store_a.append(treatment_store_nbr)\n",
    "    store_b.append(store_nbr)\n",
    "    corr_sales.append(col_corr_sales)\n",
    "    corr_cust.append(col_corr_cust)\n",
    "    diff_mag_sales.append(col_diff_mag_sales)\n",
    "    diff_mag_cust.append(col_diff_mag_cust)"
   ]
  },
  {
   "cell_type": "code",
   "execution_count": 9,
   "metadata": {},
   "outputs": [],
   "source": [
    "summary = pd.DataFrame()\n",
    "summary['store_a'] = store_a\n",
    "summary['store_b'] = store_b\n",
    "summary['corr_sales'] = corr_sales\n",
    "summary['corr_cust'] = corr_cust\n",
    "summary['diff_mag_sales'] = diff_mag_sales\n",
    "summary['diff_mag_cust'] = diff_mag_cust"
   ]
  },
  {
   "cell_type": "code",
   "execution_count": 14,
   "metadata": {
    "collapsed": true
   },
   "outputs": [
    {
     "data": {
      "text/html": [
       "<div>\n",
       "<style scoped>\n",
       "    .dataframe tbody tr th:only-of-type {\n",
       "        vertical-align: middle;\n",
       "    }\n",
       "\n",
       "    .dataframe tbody tr th {\n",
       "        vertical-align: top;\n",
       "    }\n",
       "\n",
       "    .dataframe thead th {\n",
       "        text-align: right;\n",
       "    }\n",
       "</style>\n",
       "<table border=\"1\" class=\"dataframe\">\n",
       "  <thead>\n",
       "    <tr style=\"text-align: right;\">\n",
       "      <th></th>\n",
       "      <th>store_a</th>\n",
       "      <th>store_b</th>\n",
       "      <th>corr_sales</th>\n",
       "      <th>corr_cust</th>\n",
       "      <th>diff_mag_sales</th>\n",
       "      <th>diff_mag_cust</th>\n",
       "    </tr>\n",
       "  </thead>\n",
       "  <tbody>\n",
       "    <tr>\n",
       "      <th>0</th>\n",
       "      <td>77</td>\n",
       "      <td>1</td>\n",
       "      <td>0.0752</td>\n",
       "      <td>0.3222</td>\n",
       "      <td>44.5857</td>\n",
       "      <td>2.5714</td>\n",
       "    </tr>\n",
       "    <tr>\n",
       "      <th>1</th>\n",
       "      <td>77</td>\n",
       "      <td>2</td>\n",
       "      <td>-0.2631</td>\n",
       "      <td>-0.5721</td>\n",
       "      <td>81.5000</td>\n",
       "      <td>3.8571</td>\n",
       "    </tr>\n",
       "    <tr>\n",
       "      <th>2</th>\n",
       "      <td>77</td>\n",
       "      <td>3</td>\n",
       "      <td>0.8066</td>\n",
       "      <td>0.8342</td>\n",
       "      <td>832.4500</td>\n",
       "      <td>63.5714</td>\n",
       "    </tr>\n",
       "    <tr>\n",
       "      <th>3</th>\n",
       "      <td>77</td>\n",
       "      <td>4</td>\n",
       "      <td>-0.2633</td>\n",
       "      <td>-0.2956</td>\n",
       "      <td>1061.1429</td>\n",
       "      <td>78.5714</td>\n",
       "    </tr>\n",
       "    <tr>\n",
       "      <th>4</th>\n",
       "      <td>77</td>\n",
       "      <td>5</td>\n",
       "      <td>-0.1107</td>\n",
       "      <td>0.3707</td>\n",
       "      <td>577.2429</td>\n",
       "      <td>50.2857</td>\n",
       "    </tr>\n",
       "    <tr>\n",
       "      <th>5</th>\n",
       "      <td>77</td>\n",
       "      <td>6</td>\n",
       "      <td>0.0425</td>\n",
       "      <td>0.1369</td>\n",
       "      <td>11.4571</td>\n",
       "      <td>0.8571</td>\n",
       "    </tr>\n",
       "    <tr>\n",
       "      <th>6</th>\n",
       "      <td>77</td>\n",
       "      <td>7</td>\n",
       "      <td>-0.1939</td>\n",
       "      <td>-0.3110</td>\n",
       "      <td>802.0714</td>\n",
       "      <td>62.4286</td>\n",
       "    </tr>\n",
       "    <tr>\n",
       "      <th>7</th>\n",
       "      <td>77</td>\n",
       "      <td>8</td>\n",
       "      <td>-0.3074</td>\n",
       "      <td>-0.4104</td>\n",
       "      <td>133.1429</td>\n",
       "      <td>1.4286</td>\n",
       "    </tr>\n",
       "    <tr>\n",
       "      <th>8</th>\n",
       "      <td>77</td>\n",
       "      <td>9</td>\n",
       "      <td>-0.7030</td>\n",
       "      <td>-0.7857</td>\n",
       "      <td>115.0429</td>\n",
       "      <td>13.2857</td>\n",
       "    </tr>\n",
       "    <tr>\n",
       "      <th>9</th>\n",
       "      <td>77</td>\n",
       "      <td>10</td>\n",
       "      <td>-0.0400</td>\n",
       "      <td>0.1122</td>\n",
       "      <td>661.0929</td>\n",
       "      <td>58.8571</td>\n",
       "    </tr>\n",
       "  </tbody>\n",
       "</table>\n",
       "</div>"
      ],
      "text/plain": [
       "   store_a  store_b  corr_sales  corr_cust  diff_mag_sales  diff_mag_cust\n",
       "0       77        1      0.0752     0.3222         44.5857         2.5714\n",
       "1       77        2     -0.2631    -0.5721         81.5000         3.8571\n",
       "2       77        3      0.8066     0.8342        832.4500        63.5714\n",
       "3       77        4     -0.2633    -0.2956       1061.1429        78.5714\n",
       "4       77        5     -0.1107     0.3707        577.2429        50.2857\n",
       "5       77        6      0.0425     0.1369         11.4571         0.8571\n",
       "6       77        7     -0.1939    -0.3110        802.0714        62.4286\n",
       "7       77        8     -0.3074    -0.4104        133.1429         1.4286\n",
       "8       77        9     -0.7030    -0.7857        115.0429        13.2857\n",
       "9       77       10     -0.0400     0.1122        661.0929        58.8571"
      ]
     },
     "execution_count": 14,
     "metadata": {},
     "output_type": "execute_result"
    }
   ],
   "source": [
    "summary.head(10)"
   ]
  },
  {
   "cell_type": "code",
   "execution_count": 10,
   "metadata": {},
   "outputs": [],
   "source": [
    "#### combine the correlaiton & difference in magnitude -> to decide which store is the most similar to the treatment store\n",
    "#### equal weight in combination\n",
    "\n",
    "summary['rank_diff_mag_sales'] = summary['diff_mag_sales'].rank(ascending=False)\n",
    "summary['rank_diff_mag_cust'] = summary['diff_mag_cust'].rank(ascending=False)\n",
    "\n",
    "scaler = MinMaxScaler()\n",
    "summary['corr_sales_scaled'] = scaler.fit_transform(summary[['corr_sales']])\n",
    "summary['corr_cust_scaled'] = scaler.fit_transform(summary[['corr_cust']])\n",
    "summary['diff_mag_sales_scaled'] = scaler.fit_transform(summary[['rank_diff_mag_sales']])\n",
    "summary['diff_mag_cust_scaled'] = scaler.fit_transform(summary[['rank_diff_mag_cust']])"
   ]
  },
  {
   "cell_type": "code",
   "execution_count": 11,
   "metadata": {},
   "outputs": [],
   "source": [
    "summary['sales_rank'] = (summary['corr_sales_scaled'] + summary['diff_mag_sales_scaled'])/2\n",
    "summary['cust_rank'] = (summary['corr_cust_scaled'] + summary['diff_mag_cust_scaled'])/2\n",
    "summary['rank'] = (summary['sales_rank'] + summary['cust_rank'])/2"
   ]
  },
  {
   "cell_type": "code",
   "execution_count": 17,
   "metadata": {
    "collapsed": true
   },
   "outputs": [
    {
     "data": {
      "text/html": [
       "<div>\n",
       "<style scoped>\n",
       "    .dataframe tbody tr th:only-of-type {\n",
       "        vertical-align: middle;\n",
       "    }\n",
       "\n",
       "    .dataframe tbody tr th {\n",
       "        vertical-align: top;\n",
       "    }\n",
       "\n",
       "    .dataframe thead th {\n",
       "        text-align: right;\n",
       "    }\n",
       "</style>\n",
       "<table border=\"1\" class=\"dataframe\">\n",
       "  <thead>\n",
       "    <tr style=\"text-align: right;\">\n",
       "      <th></th>\n",
       "      <th>store_a</th>\n",
       "      <th>store_b</th>\n",
       "      <th>corr_sales</th>\n",
       "      <th>corr_cust</th>\n",
       "      <th>diff_mag_sales</th>\n",
       "      <th>diff_mag_cust</th>\n",
       "      <th>rank_diff_mag_sales</th>\n",
       "      <th>rank_diff_mag_cust</th>\n",
       "      <th>corr_sales_scaled</th>\n",
       "      <th>corr_cust_scaled</th>\n",
       "      <th>diff_mag_sales_scaled</th>\n",
       "      <th>diff_mag_cust_scaled</th>\n",
       "      <th>sales_rank</th>\n",
       "      <th>cust_rank</th>\n",
       "      <th>rank</th>\n",
       "    </tr>\n",
       "  </thead>\n",
       "  <tbody>\n",
       "    <tr>\n",
       "      <th>0</th>\n",
       "      <td>77</td>\n",
       "      <td>1</td>\n",
       "      <td>0.0752</td>\n",
       "      <td>0.3222</td>\n",
       "      <td>44.5857</td>\n",
       "      <td>2.5714</td>\n",
       "      <td>242.0000</td>\n",
       "      <td>229.0000</td>\n",
       "      <td>0.4919</td>\n",
       "      <td>0.6204</td>\n",
       "      <td>0.8926</td>\n",
       "      <td>0.8460</td>\n",
       "      <td>0.6923</td>\n",
       "      <td>0.7332</td>\n",
       "      <td>0.7127</td>\n",
       "    </tr>\n",
       "    <tr>\n",
       "      <th>1</th>\n",
       "      <td>77</td>\n",
       "      <td>2</td>\n",
       "      <td>-0.2631</td>\n",
       "      <td>-0.5721</td>\n",
       "      <td>81.5000</td>\n",
       "      <td>3.8571</td>\n",
       "      <td>229.0000</td>\n",
       "      <td>214.0000</td>\n",
       "      <td>0.3061</td>\n",
       "      <td>0.1196</td>\n",
       "      <td>0.8444</td>\n",
       "      <td>0.7904</td>\n",
       "      <td>0.5753</td>\n",
       "      <td>0.4550</td>\n",
       "      <td>0.5151</td>\n",
       "    </tr>\n",
       "    <tr>\n",
       "      <th>2</th>\n",
       "      <td>77</td>\n",
       "      <td>3</td>\n",
       "      <td>0.8066</td>\n",
       "      <td>0.8342</td>\n",
       "      <td>832.4500</td>\n",
       "      <td>63.5714</td>\n",
       "      <td>33.0000</td>\n",
       "      <td>50.5000</td>\n",
       "      <td>0.8938</td>\n",
       "      <td>0.9072</td>\n",
       "      <td>0.1185</td>\n",
       "      <td>0.1837</td>\n",
       "      <td>0.5061</td>\n",
       "      <td>0.5454</td>\n",
       "      <td>0.5258</td>\n",
       "    </tr>\n",
       "    <tr>\n",
       "      <th>3</th>\n",
       "      <td>77</td>\n",
       "      <td>4</td>\n",
       "      <td>-0.2633</td>\n",
       "      <td>-0.2956</td>\n",
       "      <td>1061.1429</td>\n",
       "      <td>78.5714</td>\n",
       "      <td>6.0000</td>\n",
       "      <td>7.0000</td>\n",
       "      <td>0.3060</td>\n",
       "      <td>0.2744</td>\n",
       "      <td>0.0185</td>\n",
       "      <td>0.0223</td>\n",
       "      <td>0.1622</td>\n",
       "      <td>0.1483</td>\n",
       "      <td>0.1553</td>\n",
       "    </tr>\n",
       "    <tr>\n",
       "      <th>4</th>\n",
       "      <td>77</td>\n",
       "      <td>5</td>\n",
       "      <td>-0.1107</td>\n",
       "      <td>0.3707</td>\n",
       "      <td>577.2429</td>\n",
       "      <td>50.2857</td>\n",
       "      <td>116.0000</td>\n",
       "      <td>121.0000</td>\n",
       "      <td>0.3898</td>\n",
       "      <td>0.6476</td>\n",
       "      <td>0.4259</td>\n",
       "      <td>0.4453</td>\n",
       "      <td>0.4079</td>\n",
       "      <td>0.5464</td>\n",
       "      <td>0.4771</td>\n",
       "    </tr>\n",
       "  </tbody>\n",
       "</table>\n",
       "</div>"
      ],
      "text/plain": [
       "   store_a  store_b  corr_sales  corr_cust  diff_mag_sales  diff_mag_cust  \\\n",
       "0       77        1      0.0752     0.3222         44.5857         2.5714   \n",
       "1       77        2     -0.2631    -0.5721         81.5000         3.8571   \n",
       "2       77        3      0.8066     0.8342        832.4500        63.5714   \n",
       "3       77        4     -0.2633    -0.2956       1061.1429        78.5714   \n",
       "4       77        5     -0.1107     0.3707        577.2429        50.2857   \n",
       "\n",
       "   rank_diff_mag_sales  rank_diff_mag_cust  corr_sales_scaled  \\\n",
       "0             242.0000            229.0000             0.4919   \n",
       "1             229.0000            214.0000             0.3061   \n",
       "2              33.0000             50.5000             0.8938   \n",
       "3               6.0000              7.0000             0.3060   \n",
       "4             116.0000            121.0000             0.3898   \n",
       "\n",
       "   corr_cust_scaled  diff_mag_sales_scaled  diff_mag_cust_scaled  sales_rank  \\\n",
       "0            0.6204                 0.8926                0.8460      0.6923   \n",
       "1            0.1196                 0.8444                0.7904      0.5753   \n",
       "2            0.9072                 0.1185                0.1837      0.5061   \n",
       "3            0.2744                 0.0185                0.0223      0.1622   \n",
       "4            0.6476                 0.4259                0.4453      0.4079   \n",
       "\n",
       "   cust_rank   rank  \n",
       "0     0.7332 0.7127  \n",
       "1     0.4550 0.5151  \n",
       "2     0.5454 0.5258  \n",
       "3     0.1483 0.1553  \n",
       "4     0.5464 0.4771  "
      ]
     },
     "execution_count": 17,
     "metadata": {},
     "output_type": "execute_result"
    }
   ],
   "source": [
    "summary.head()"
   ]
  },
  {
   "cell_type": "code",
   "execution_count": 12,
   "metadata": {},
   "outputs": [],
   "source": [
    "rank = summary.groupby(['store_a', 'store_b']).agg({'rank': np.sum}).sort_values('rank', ascending=False)"
   ]
  },
  {
   "cell_type": "code",
   "execution_count": 13,
   "metadata": {},
   "outputs": [
    {
     "data": {
      "text/plain": [
       "233"
      ]
     },
     "execution_count": 13,
     "metadata": {},
     "output_type": "execute_result"
    }
   ],
   "source": [
    "rank.columns = ['similarity']\n",
    "similar_store = int(rank.reset_index().iloc[1].store_b)\n",
    "similar_store\n",
    "#### store 233 is the most similiar one with store 77"
   ]
  },
  {
   "cell_type": "code",
   "execution_count": 32,
   "metadata": {},
   "outputs": [],
   "source": [
    "# check the viz\n",
    "\n",
    "df_temp = pd.merge(df_pretrial_group[df_pretrial_group['STORE_NBR'] == similar_store], \n",
    "                   df_pretrial_group[df_pretrial_group['STORE_NBR'] == treatment_store_nbr], \n",
    "                   how='inner',\n",
    "                   on='MONTH')[['total_sales_x', 'total_sales_y']]"
   ]
  },
  {
   "cell_type": "code",
   "execution_count": 33,
   "metadata": {
    "collapsed": true
   },
   "outputs": [
    {
     "data": {
      "text/html": [
       "<div>\n",
       "<style scoped>\n",
       "    .dataframe tbody tr th:only-of-type {\n",
       "        vertical-align: middle;\n",
       "    }\n",
       "\n",
       "    .dataframe tbody tr th {\n",
       "        vertical-align: top;\n",
       "    }\n",
       "\n",
       "    .dataframe thead th {\n",
       "        text-align: right;\n",
       "    }\n",
       "</style>\n",
       "<table border=\"1\" class=\"dataframe\">\n",
       "  <thead>\n",
       "    <tr style=\"text-align: right;\">\n",
       "      <th></th>\n",
       "      <th>total_sales_x</th>\n",
       "      <th>total_sales_y</th>\n",
       "    </tr>\n",
       "  </thead>\n",
       "  <tbody>\n",
       "    <tr>\n",
       "      <th>0</th>\n",
       "      <td>177.5000</td>\n",
       "      <td>204.4000</td>\n",
       "    </tr>\n",
       "    <tr>\n",
       "      <th>1</th>\n",
       "      <td>290.7000</td>\n",
       "      <td>296.8000</td>\n",
       "    </tr>\n",
       "    <tr>\n",
       "      <th>2</th>\n",
       "      <td>285.9000</td>\n",
       "      <td>255.5000</td>\n",
       "    </tr>\n",
       "    <tr>\n",
       "      <th>3</th>\n",
       "      <td>228.6000</td>\n",
       "      <td>225.2000</td>\n",
       "    </tr>\n",
       "    <tr>\n",
       "      <th>4</th>\n",
       "      <td>185.7000</td>\n",
       "      <td>204.5000</td>\n",
       "    </tr>\n",
       "    <tr>\n",
       "      <th>5</th>\n",
       "      <td>211.6000</td>\n",
       "      <td>245.3000</td>\n",
       "    </tr>\n",
       "    <tr>\n",
       "      <th>6</th>\n",
       "      <td>279.8000</td>\n",
       "      <td>267.3000</td>\n",
       "    </tr>\n",
       "  </tbody>\n",
       "</table>\n",
       "</div>"
      ],
      "text/plain": [
       "   total_sales_x  total_sales_y\n",
       "0       177.5000       204.4000\n",
       "1       290.7000       296.8000\n",
       "2       285.9000       255.5000\n",
       "3       228.6000       225.2000\n",
       "4       185.7000       204.5000\n",
       "5       211.6000       245.3000\n",
       "6       279.8000       267.3000"
      ]
     },
     "execution_count": 33,
     "metadata": {},
     "output_type": "execute_result"
    }
   ],
   "source": [
    "df_temp"
   ]
  },
  {
   "cell_type": "code",
   "execution_count": 34,
   "metadata": {
    "collapsed": true
   },
   "outputs": [
    {
     "data": {
      "image/png": "[encoded data removed]",
      "text/plain": [
       "<Figure size 1500x500 with 1 Axes>"
      ]
     },
     "metadata": {},
     "output_type": "display_data"
    }
   ],
   "source": [
    "#### the visualization of store 77 & 233 in term of total sales\n",
    "\n",
    "plt.figure(figsize=(15,5))\n",
    "sns.lineplot(data=df_temp)\n",
    "\n",
    "plt.show()"
   ]
  },
  {
   "cell_type": "code",
   "execution_count": 35,
   "metadata": {},
   "outputs": [],
   "source": [
    "# check the viz\n",
    "df_temp = pd.merge(df_pretrial_group[df_pretrial_group['STORE_NBR'] == similar_store], \n",
    "                   df_pretrial_group[df_pretrial_group['STORE_NBR'] == treatment_store_nbr], \n",
    "                   how='inner',\n",
    "                   on='MONTH')[['n_unique_cust_x', 'n_unique_cust_y']]"
   ]
  },
  {
   "cell_type": "code",
   "execution_count": 36,
   "metadata": {
    "collapsed": true
   },
   "outputs": [
    {
     "data": {
      "text/html": [
       "<div>\n",
       "<style scoped>\n",
       "    .dataframe tbody tr th:only-of-type {\n",
       "        vertical-align: middle;\n",
       "    }\n",
       "\n",
       "    .dataframe tbody tr th {\n",
       "        vertical-align: top;\n",
       "    }\n",
       "\n",
       "    .dataframe thead th {\n",
       "        text-align: right;\n",
       "    }\n",
       "</style>\n",
       "<table border=\"1\" class=\"dataframe\">\n",
       "  <thead>\n",
       "    <tr style=\"text-align: right;\">\n",
       "      <th></th>\n",
       "      <th>n_unique_cust_x</th>\n",
       "      <th>n_unique_cust_y</th>\n",
       "    </tr>\n",
       "  </thead>\n",
       "  <tbody>\n",
       "    <tr>\n",
       "      <th>0</th>\n",
       "      <td>35</td>\n",
       "      <td>35</td>\n",
       "    </tr>\n",
       "    <tr>\n",
       "      <th>1</th>\n",
       "      <td>51</td>\n",
       "      <td>51</td>\n",
       "    </tr>\n",
       "    <tr>\n",
       "      <th>2</th>\n",
       "      <td>48</td>\n",
       "      <td>47</td>\n",
       "    </tr>\n",
       "    <tr>\n",
       "      <th>3</th>\n",
       "      <td>42</td>\n",
       "      <td>42</td>\n",
       "    </tr>\n",
       "    <tr>\n",
       "      <th>4</th>\n",
       "      <td>35</td>\n",
       "      <td>37</td>\n",
       "    </tr>\n",
       "    <tr>\n",
       "      <th>5</th>\n",
       "      <td>40</td>\n",
       "      <td>41</td>\n",
       "    </tr>\n",
       "    <tr>\n",
       "      <th>6</th>\n",
       "      <td>47</td>\n",
       "      <td>46</td>\n",
       "    </tr>\n",
       "  </tbody>\n",
       "</table>\n",
       "</div>"
      ],
      "text/plain": [
       "   n_unique_cust_x  n_unique_cust_y\n",
       "0               35               35\n",
       "1               51               51\n",
       "2               48               47\n",
       "3               42               42\n",
       "4               35               37\n",
       "5               40               41\n",
       "6               47               46"
      ]
     },
     "execution_count": 36,
     "metadata": {},
     "output_type": "execute_result"
    }
   ],
   "source": [
    "df_temp"
   ]
  },
  {
   "cell_type": "code",
   "execution_count": 37,
   "metadata": {
    "collapsed": true
   },
   "outputs": [
    {
     "data": {
      "image/png": "[encoded data removed]",
      "text/plain": [
       "<Figure size 1500x500 with 1 Axes>"
      ]
     },
     "metadata": {},
     "output_type": "display_data"
    }
   ],
   "source": [
    "#### the visualization of store 77 & 233 in term of number customers\n",
    "\n",
    "plt.figure(figsize=(15,5))\n",
    "sns.lineplot(data=df_temp)\n",
    "\n",
    "plt.show()"
   ]
  },
  {
   "cell_type": "code",
   "execution_count": 39,
   "metadata": {
    "collapsed": true
   },
   "outputs": [
    {
     "data": {
      "text/html": [
       "<div>\n",
       "<style scoped>\n",
       "    .dataframe tbody tr th:only-of-type {\n",
       "        vertical-align: middle;\n",
       "    }\n",
       "\n",
       "    .dataframe tbody tr th {\n",
       "        vertical-align: top;\n",
       "    }\n",
       "\n",
       "    .dataframe thead th {\n",
       "        text-align: right;\n",
       "    }\n",
       "</style>\n",
       "<table border=\"1\" class=\"dataframe\">\n",
       "  <thead>\n",
       "    <tr style=\"text-align: right;\">\n",
       "      <th></th>\n",
       "      <th>STORE_NBR</th>\n",
       "      <th>MONTH</th>\n",
       "      <th>total_sales</th>\n",
       "      <th>n_unique_cust</th>\n",
       "    </tr>\n",
       "  </thead>\n",
       "  <tbody>\n",
       "    <tr>\n",
       "      <th>0</th>\n",
       "      <td>1</td>\n",
       "      <td>1</td>\n",
       "      <td>154.8000</td>\n",
       "      <td>35</td>\n",
       "    </tr>\n",
       "    <tr>\n",
       "      <th>1</th>\n",
       "      <td>1</td>\n",
       "      <td>7</td>\n",
       "      <td>206.9000</td>\n",
       "      <td>49</td>\n",
       "    </tr>\n",
       "    <tr>\n",
       "      <th>2</th>\n",
       "      <td>1</td>\n",
       "      <td>8</td>\n",
       "      <td>176.1000</td>\n",
       "      <td>42</td>\n",
       "    </tr>\n",
       "    <tr>\n",
       "      <th>3</th>\n",
       "      <td>1</td>\n",
       "      <td>9</td>\n",
       "      <td>278.8000</td>\n",
       "      <td>59</td>\n",
       "    </tr>\n",
       "    <tr>\n",
       "      <th>4</th>\n",
       "      <td>1</td>\n",
       "      <td>10</td>\n",
       "      <td>188.1000</td>\n",
       "      <td>44</td>\n",
       "    </tr>\n",
       "  </tbody>\n",
       "</table>\n",
       "</div>"
      ],
      "text/plain": [
       "   STORE_NBR  MONTH  total_sales  n_unique_cust\n",
       "0          1      1     154.8000             35\n",
       "1          1      7     206.9000             49\n",
       "2          1      8     176.1000             42\n",
       "3          1      9     278.8000             59\n",
       "4          1     10     188.1000             44"
      ]
     },
     "execution_count": 39,
     "metadata": {},
     "output_type": "execute_result"
    }
   ],
   "source": [
    "df_pretrial_group.head()"
   ]
  },
  {
   "cell_type": "code",
   "execution_count": 17,
   "metadata": {},
   "outputs": [],
   "source": [
    "#### scaling factor of store 233 to the store 77 in pre-trial period\n",
    "#### this factor will be used to scale in the trial period\n",
    "\n",
    "sales_treatment = df_pretrial_group[df_pretrial_group['STORE_NBR'] == treatment_store_nbr]['total_sales'].sum()\n",
    "sales_similar_store = df_pretrial_group[df_pretrial_group['STORE_NBR'] == similar_store]['total_sales'].sum()\n",
    "\n",
    "scale = sales_treatment/sales_similar_store"
   ]
  },
  {
   "cell_type": "code",
   "execution_count": 41,
   "metadata": {},
   "outputs": [
    {
     "data": {
      "text/plain": [
       "Index(['LYLTY_CARD_NBR', 'DATE', 'STORE_NBR', 'TXN_ID', 'PROD_NBR',\n",
       "       'PROD_NAME', 'PROD_QTY', 'TOT_SALES', 'PACK_SIZE', 'BRAND', 'LIFESTAGE',\n",
       "       'PREMIUM_CUSTOMER', 'MONTH'],\n",
       "      dtype='object')"
      ]
     },
     "execution_count": 41,
     "metadata": {},
     "output_type": "execute_result"
    }
   ],
   "source": [
    "df.columns"
   ]
  },
  {
   "cell_type": "code",
   "execution_count": 22,
   "metadata": {},
   "outputs": [],
   "source": [
    "df_treatment = df[(df['STORE_NBR'] == treatment_store_nbr) &\\\n",
    "                  (df['DATE'] > pd.to_datetime('2019-01-31', format='%Y-%m-%d')) &\\\n",
    "                  (df['DATE'] < pd.to_datetime('2019-05-01', format='%Y-%m-%d'))][['TOT_SALES', 'DATE']].set_index('DATE')\n",
    "df_treatment = df_treatment.resample(rule='D').agg([np.sum])"
   ]
  },
  {
   "cell_type": "code",
   "execution_count": 23,
   "metadata": {},
   "outputs": [],
   "source": [
    "df_similar = df[(df['STORE_NBR'] == similar_store) &\\\n",
    "                  (df['DATE'] > pd.to_datetime('2019-01-31', format='%Y-%m-%d')) &\\\n",
    "                  (df['DATE'] < pd.to_datetime('2019-05-01', format='%Y-%m-%d'))][['TOT_SALES', 'DATE']].set_index('DATE')\n",
    "df_similar = df_similar.resample(rule='D').agg([np.sum])"
   ]
  },
  {
   "cell_type": "code",
   "execution_count": 24,
   "metadata": {},
   "outputs": [
    {
     "data": {
      "text/plain": [
       "Ttest_indResult(statistic=-1.7986852684385468, pvalue=0.07378198122748618)"
      ]
     },
     "execution_count": 24,
     "metadata": {},
     "output_type": "execute_result"
    }
   ],
   "source": [
    "from scipy.stats import ttest_ind\n",
    "\n",
    "#### H0: there is no difference of daily sales between treatment store & similar store in the trial period\n",
    "#### HA: there is a difference of daily sales between treatment store & similar store in the trial period\n",
    "\n",
    "ttest_ind(df_similar[('TOT_SALES', 'sum')].values*scale, \n",
    "         df_treatment[('TOT_SALES', 'sum')].values)\n",
    "\n",
    "#### The result show there is no statistically significant difference"
   ]
  },
  {
   "cell_type": "code",
   "execution_count": null,
   "metadata": {},
   "outputs": [],
   "source": []
  },
  {
   "cell_type": "markdown",
   "metadata": {},
   "source": [
    "## Analysis for Store 86"
   ]
  },
  {
   "cell_type": "code",
   "execution_count": 44,
   "metadata": {},
   "outputs": [],
   "source": [
    "#### calculate the correlation of total sales & number of customers for each store & treatment store\n",
    "#### calculate the difference in magnitude of total sales & number of customers for each store & treatment store\n",
    "\n",
    "#### store_a | store_b | corr_sales | corr_cust | diff_mag_sales | diff_mag_cust\n",
    "\n",
    "store_a = []\n",
    "store_b = []\n",
    "corr_sales = []\n",
    "corr_cust = []\n",
    "diff_mag_sales = []\n",
    "diff_mag_cust = []\n",
    "\n",
    "store_nbrs = [store_nbr for store_nbr in df_pretrial_group['STORE_NBR'].unique()]\n",
    "treatment_store_nbr = 86\n",
    "\n",
    "for store_nbr in store_nbrs:\n",
    "    df_temp = pd.merge(df_pretrial_group[df_pretrial_group['STORE_NBR'] == treatment_store_nbr], \n",
    "                       df_pretrial_group[df_pretrial_group['STORE_NBR'] == store_nbr],\n",
    "                       how='inner',\n",
    "                       on='MONTH')\n",
    "    \n",
    "    col_corr_sales = df_temp[['total_sales_x', 'total_sales_y']].corr().loc['total_sales_x', 'total_sales_y']\n",
    "    col_corr_cust = df_temp[['n_unique_cust_x', 'n_unique_cust_y']].corr().loc['n_unique_cust_x', 'n_unique_cust_y']\n",
    "    col_diff_mag_sales = np.abs(df_temp['total_sales_x'].mean() - df_temp['total_sales_y'].mean())\n",
    "    col_diff_mag_cust = np.abs(df_temp['n_unique_cust_x'].mean() - df_temp['n_unique_cust_y'].mean())\n",
    "    \n",
    "    store_a.append(treatment_store_nbr)\n",
    "    store_b.append(store_nbr)\n",
    "    corr_sales.append(col_corr_sales)\n",
    "    corr_cust.append(col_corr_cust)\n",
    "    diff_mag_sales.append(col_diff_mag_sales)\n",
    "    diff_mag_cust.append(col_diff_mag_cust)"
   ]
  },
  {
   "cell_type": "code",
   "execution_count": 45,
   "metadata": {},
   "outputs": [],
   "source": [
    "summary = pd.DataFrame()\n",
    "summary['store_a'] = store_a\n",
    "summary['store_b'] = store_b\n",
    "summary['corr_sales'] = corr_sales\n",
    "summary['corr_cust'] = corr_cust\n",
    "summary['diff_mag_sales'] = diff_mag_sales\n",
    "summary['diff_mag_cust'] = diff_mag_cust"
   ]
  },
  {
   "cell_type": "code",
   "execution_count": 46,
   "metadata": {},
   "outputs": [
    {
     "data": {
      "text/html": [
       "<div>\n",
       "<style scoped>\n",
       "    .dataframe tbody tr th:only-of-type {\n",
       "        vertical-align: middle;\n",
       "    }\n",
       "\n",
       "    .dataframe tbody tr th {\n",
       "        vertical-align: top;\n",
       "    }\n",
       "\n",
       "    .dataframe thead th {\n",
       "        text-align: right;\n",
       "    }\n",
       "</style>\n",
       "<table border=\"1\" class=\"dataframe\">\n",
       "  <thead>\n",
       "    <tr style=\"text-align: right;\">\n",
       "      <th></th>\n",
       "      <th>store_a</th>\n",
       "      <th>store_b</th>\n",
       "      <th>corr_sales</th>\n",
       "      <th>corr_cust</th>\n",
       "      <th>diff_mag_sales</th>\n",
       "      <th>diff_mag_cust</th>\n",
       "    </tr>\n",
       "  </thead>\n",
       "  <tbody>\n",
       "    <tr>\n",
       "      <th>0</th>\n",
       "      <td>86</td>\n",
       "      <td>1</td>\n",
       "      <td>0.4456</td>\n",
       "      <td>0.4858</td>\n",
       "      <td>676.1357</td>\n",
       "      <td>54.2857</td>\n",
       "    </tr>\n",
       "    <tr>\n",
       "      <th>1</th>\n",
       "      <td>86</td>\n",
       "      <td>2</td>\n",
       "      <td>-0.4038</td>\n",
       "      <td>-0.0862</td>\n",
       "      <td>713.0500</td>\n",
       "      <td>60.7143</td>\n",
       "    </tr>\n",
       "    <tr>\n",
       "      <th>2</th>\n",
       "      <td>86</td>\n",
       "      <td>3</td>\n",
       "      <td>-0.2613</td>\n",
       "      <td>-0.3538</td>\n",
       "      <td>200.9000</td>\n",
       "      <td>6.7143</td>\n",
       "    </tr>\n",
       "    <tr>\n",
       "      <th>3</th>\n",
       "      <td>86</td>\n",
       "      <td>4</td>\n",
       "      <td>-0.0390</td>\n",
       "      <td>-0.1696</td>\n",
       "      <td>429.5929</td>\n",
       "      <td>21.7143</td>\n",
       "    </tr>\n",
       "    <tr>\n",
       "      <th>4</th>\n",
       "      <td>86</td>\n",
       "      <td>5</td>\n",
       "      <td>0.2352</td>\n",
       "      <td>-0.2532</td>\n",
       "      <td>54.3071</td>\n",
       "      <td>6.5714</td>\n",
       "    </tr>\n",
       "    <tr>\n",
       "      <th>5</th>\n",
       "      <td>86</td>\n",
       "      <td>6</td>\n",
       "      <td>0.7219</td>\n",
       "      <td>0.5446</td>\n",
       "      <td>643.0071</td>\n",
       "      <td>56.0000</td>\n",
       "    </tr>\n",
       "    <tr>\n",
       "      <th>6</th>\n",
       "      <td>86</td>\n",
       "      <td>7</td>\n",
       "      <td>0.1641</td>\n",
       "      <td>0.3294</td>\n",
       "      <td>170.5214</td>\n",
       "      <td>5.5714</td>\n",
       "    </tr>\n",
       "    <tr>\n",
       "      <th>7</th>\n",
       "      <td>86</td>\n",
       "      <td>8</td>\n",
       "      <td>-0.1771</td>\n",
       "      <td>-0.2246</td>\n",
       "      <td>498.4071</td>\n",
       "      <td>58.2857</td>\n",
       "    </tr>\n",
       "    <tr>\n",
       "      <th>8</th>\n",
       "      <td>86</td>\n",
       "      <td>9</td>\n",
       "      <td>0.0979</td>\n",
       "      <td>-0.1852</td>\n",
       "      <td>516.5071</td>\n",
       "      <td>43.5714</td>\n",
       "    </tr>\n",
       "    <tr>\n",
       "      <th>9</th>\n",
       "      <td>86</td>\n",
       "      <td>10</td>\n",
       "      <td>0.3516</td>\n",
       "      <td>-0.1267</td>\n",
       "      <td>29.5429</td>\n",
       "      <td>2.0000</td>\n",
       "    </tr>\n",
       "  </tbody>\n",
       "</table>\n",
       "</div>"
      ],
      "text/plain": [
       "   store_a  store_b  corr_sales  corr_cust  diff_mag_sales  diff_mag_cust\n",
       "0       86        1      0.4456     0.4858        676.1357        54.2857\n",
       "1       86        2     -0.4038    -0.0862        713.0500        60.7143\n",
       "2       86        3     -0.2613    -0.3538        200.9000         6.7143\n",
       "3       86        4     -0.0390    -0.1696        429.5929        21.7143\n",
       "4       86        5      0.2352    -0.2532         54.3071         6.5714\n",
       "5       86        6      0.7219     0.5446        643.0071        56.0000\n",
       "6       86        7      0.1641     0.3294        170.5214         5.5714\n",
       "7       86        8     -0.1771    -0.2246        498.4071        58.2857\n",
       "8       86        9      0.0979    -0.1852        516.5071        43.5714\n",
       "9       86       10      0.3516    -0.1267         29.5429         2.0000"
      ]
     },
     "execution_count": 46,
     "metadata": {},
     "output_type": "execute_result"
    }
   ],
   "source": [
    "summary.head(10)"
   ]
  },
  {
   "cell_type": "code",
   "execution_count": 47,
   "metadata": {},
   "outputs": [],
   "source": [
    "#### combine the correlaiton & difference in magnitude -> to decide which store is the most similar to the treatment store\n",
    "#### equal weight in combination\n",
    "\n",
    "summary['rank_diff_mag_sales'] = summary['diff_mag_sales'].rank(ascending=False)\n",
    "summary['rank_diff_mag_cust'] = summary['diff_mag_cust'].rank(ascending=False)\n",
    "\n",
    "scaler = MinMaxScaler()\n",
    "summary['corr_sales_scaled'] = scaler.fit_transform(summary[['corr_sales']])\n",
    "summary['corr_cust_scaled'] = scaler.fit_transform(summary[['corr_cust']])\n",
    "summary['diff_mag_sales_scaled'] = scaler.fit_transform(summary[['rank_diff_mag_sales']])\n",
    "summary['diff_mag_cust_scaled'] = scaler.fit_transform(summary[['rank_diff_mag_cust']])"
   ]
  },
  {
   "cell_type": "code",
   "execution_count": 48,
   "metadata": {},
   "outputs": [],
   "source": [
    "summary['sales_rank'] = (summary['corr_sales_scaled'] + summary['diff_mag_sales_scaled'])/2\n",
    "summary['cust_rank'] = (summary['corr_cust_scaled'] + summary['diff_mag_cust_scaled'])/2\n",
    "summary['rank'] = (summary['sales_rank'] + summary['cust_rank'])/2"
   ]
  },
  {
   "cell_type": "code",
   "execution_count": 49,
   "metadata": {},
   "outputs": [
    {
     "data": {
      "text/html": [
       "<div>\n",
       "<style scoped>\n",
       "    .dataframe tbody tr th:only-of-type {\n",
       "        vertical-align: middle;\n",
       "    }\n",
       "\n",
       "    .dataframe tbody tr th {\n",
       "        vertical-align: top;\n",
       "    }\n",
       "\n",
       "    .dataframe thead th {\n",
       "        text-align: right;\n",
       "    }\n",
       "</style>\n",
       "<table border=\"1\" class=\"dataframe\">\n",
       "  <thead>\n",
       "    <tr style=\"text-align: right;\">\n",
       "      <th></th>\n",
       "      <th>store_a</th>\n",
       "      <th>store_b</th>\n",
       "      <th>corr_sales</th>\n",
       "      <th>corr_cust</th>\n",
       "      <th>diff_mag_sales</th>\n",
       "      <th>diff_mag_cust</th>\n",
       "      <th>rank_diff_mag_sales</th>\n",
       "      <th>rank_diff_mag_cust</th>\n",
       "      <th>corr_sales_scaled</th>\n",
       "      <th>corr_cust_scaled</th>\n",
       "      <th>diff_mag_sales_scaled</th>\n",
       "      <th>diff_mag_cust_scaled</th>\n",
       "      <th>sales_rank</th>\n",
       "      <th>cust_rank</th>\n",
       "      <th>rank</th>\n",
       "    </tr>\n",
       "  </thead>\n",
       "  <tbody>\n",
       "    <tr>\n",
       "      <th>0</th>\n",
       "      <td>86</td>\n",
       "      <td>1</td>\n",
       "      <td>0.4456</td>\n",
       "      <td>0.4858</td>\n",
       "      <td>676.1357</td>\n",
       "      <td>54.2857</td>\n",
       "      <td>53.0000</td>\n",
       "      <td>102.0000</td>\n",
       "      <td>0.7228</td>\n",
       "      <td>0.7354</td>\n",
       "      <td>0.1926</td>\n",
       "      <td>0.3748</td>\n",
       "      <td>0.4577</td>\n",
       "      <td>0.5551</td>\n",
       "      <td>0.5064</td>\n",
       "    </tr>\n",
       "    <tr>\n",
       "      <th>1</th>\n",
       "      <td>86</td>\n",
       "      <td>2</td>\n",
       "      <td>-0.4038</td>\n",
       "      <td>-0.0862</td>\n",
       "      <td>713.0500</td>\n",
       "      <td>60.7143</td>\n",
       "      <td>44.0000</td>\n",
       "      <td>52.0000</td>\n",
       "      <td>0.2981</td>\n",
       "      <td>0.4411</td>\n",
       "      <td>0.1593</td>\n",
       "      <td>0.1892</td>\n",
       "      <td>0.2287</td>\n",
       "      <td>0.3152</td>\n",
       "      <td>0.2719</td>\n",
       "    </tr>\n",
       "    <tr>\n",
       "      <th>2</th>\n",
       "      <td>86</td>\n",
       "      <td>3</td>\n",
       "      <td>-0.2613</td>\n",
       "      <td>-0.3538</td>\n",
       "      <td>200.9000</td>\n",
       "      <td>6.7143</td>\n",
       "      <td>169.0000</td>\n",
       "      <td>199.5000</td>\n",
       "      <td>0.3694</td>\n",
       "      <td>0.3035</td>\n",
       "      <td>0.6222</td>\n",
       "      <td>0.7365</td>\n",
       "      <td>0.4958</td>\n",
       "      <td>0.5200</td>\n",
       "      <td>0.5079</td>\n",
       "    </tr>\n",
       "    <tr>\n",
       "      <th>3</th>\n",
       "      <td>86</td>\n",
       "      <td>4</td>\n",
       "      <td>-0.0390</td>\n",
       "      <td>-0.1696</td>\n",
       "      <td>429.5929</td>\n",
       "      <td>21.7143</td>\n",
       "      <td>132.0000</td>\n",
       "      <td>143.0000</td>\n",
       "      <td>0.4805</td>\n",
       "      <td>0.3982</td>\n",
       "      <td>0.4852</td>\n",
       "      <td>0.5269</td>\n",
       "      <td>0.4828</td>\n",
       "      <td>0.4626</td>\n",
       "      <td>0.4727</td>\n",
       "    </tr>\n",
       "    <tr>\n",
       "      <th>4</th>\n",
       "      <td>86</td>\n",
       "      <td>5</td>\n",
       "      <td>0.2352</td>\n",
       "      <td>-0.2532</td>\n",
       "      <td>54.3071</td>\n",
       "      <td>6.5714</td>\n",
       "      <td>223.0000</td>\n",
       "      <td>203.0000</td>\n",
       "      <td>0.6176</td>\n",
       "      <td>0.3552</td>\n",
       "      <td>0.8222</td>\n",
       "      <td>0.7495</td>\n",
       "      <td>0.7199</td>\n",
       "      <td>0.5524</td>\n",
       "      <td>0.6361</td>\n",
       "    </tr>\n",
       "  </tbody>\n",
       "</table>\n",
       "</div>"
      ],
      "text/plain": [
       "   store_a  store_b  corr_sales  corr_cust  diff_mag_sales  diff_mag_cust  \\\n",
       "0       86        1      0.4456     0.4858        676.1357        54.2857   \n",
       "1       86        2     -0.4038    -0.0862        713.0500        60.7143   \n",
       "2       86        3     -0.2613    -0.3538        200.9000         6.7143   \n",
       "3       86        4     -0.0390    -0.1696        429.5929        21.7143   \n",
       "4       86        5      0.2352    -0.2532         54.3071         6.5714   \n",
       "\n",
       "   rank_diff_mag_sales  rank_diff_mag_cust  corr_sales_scaled  \\\n",
       "0              53.0000            102.0000             0.7228   \n",
       "1              44.0000             52.0000             0.2981   \n",
       "2             169.0000            199.5000             0.3694   \n",
       "3             132.0000            143.0000             0.4805   \n",
       "4             223.0000            203.0000             0.6176   \n",
       "\n",
       "   corr_cust_scaled  diff_mag_sales_scaled  diff_mag_cust_scaled  sales_rank  \\\n",
       "0            0.7354                 0.1926                0.3748      0.4577   \n",
       "1            0.4411                 0.1593                0.1892      0.2287   \n",
       "2            0.3035                 0.6222                0.7365      0.4958   \n",
       "3            0.3982                 0.4852                0.5269      0.4828   \n",
       "4            0.3552                 0.8222                0.7495      0.7199   \n",
       "\n",
       "   cust_rank   rank  \n",
       "0     0.5551 0.5064  \n",
       "1     0.3152 0.2719  \n",
       "2     0.5200 0.5079  \n",
       "3     0.4626 0.4727  \n",
       "4     0.5524 0.6361  "
      ]
     },
     "execution_count": 49,
     "metadata": {},
     "output_type": "execute_result"
    }
   ],
   "source": [
    "summary.head()"
   ]
  },
  {
   "cell_type": "code",
   "execution_count": 50,
   "metadata": {},
   "outputs": [],
   "source": [
    "rank = summary.groupby(['store_a', 'store_b']).agg({'rank': np.sum}).sort_values('rank', ascending=False)"
   ]
  },
  {
   "cell_type": "code",
   "execution_count": 51,
   "metadata": {},
   "outputs": [
    {
     "data": {
      "text/plain": [
       "155"
      ]
     },
     "execution_count": 51,
     "metadata": {},
     "output_type": "execute_result"
    }
   ],
   "source": [
    "rank.columns = ['similarity']\n",
    "similar_store = int(rank.reset_index().iloc[1].store_b)\n",
    "similar_store\n",
    "#### store 155 is the most similiar one with store 86"
   ]
  },
  {
   "cell_type": "code",
   "execution_count": 52,
   "metadata": {},
   "outputs": [],
   "source": [
    "# check the viz\n",
    "\n",
    "df_temp = pd.merge(df_pretrial_group[df_pretrial_group['STORE_NBR'] == similar_store], \n",
    "                   df_pretrial_group[df_pretrial_group['STORE_NBR'] == treatment_store_nbr], \n",
    "                   how='inner',\n",
    "                   on='MONTH')[['total_sales_x', 'total_sales_y']]"
   ]
  },
  {
   "cell_type": "code",
   "execution_count": 53,
   "metadata": {
    "collapsed": true
   },
   "outputs": [
    {
     "data": {
      "text/html": [
       "<div>\n",
       "<style scoped>\n",
       "    .dataframe tbody tr th:only-of-type {\n",
       "        vertical-align: middle;\n",
       "    }\n",
       "\n",
       "    .dataframe tbody tr th {\n",
       "        vertical-align: top;\n",
       "    }\n",
       "\n",
       "    .dataframe thead th {\n",
       "        text-align: right;\n",
       "    }\n",
       "</style>\n",
       "<table border=\"1\" class=\"dataframe\">\n",
       "  <thead>\n",
       "    <tr style=\"text-align: right;\">\n",
       "      <th></th>\n",
       "      <th>total_sales_x</th>\n",
       "      <th>total_sales_y</th>\n",
       "    </tr>\n",
       "  </thead>\n",
       "  <tbody>\n",
       "    <tr>\n",
       "      <th>0</th>\n",
       "      <td>874.6000</td>\n",
       "      <td>841.4000</td>\n",
       "    </tr>\n",
       "    <tr>\n",
       "      <th>1</th>\n",
       "      <td>924.6000</td>\n",
       "      <td>892.2000</td>\n",
       "    </tr>\n",
       "    <tr>\n",
       "      <th>2</th>\n",
       "      <td>782.7000</td>\n",
       "      <td>764.0500</td>\n",
       "    </tr>\n",
       "    <tr>\n",
       "      <th>3</th>\n",
       "      <td>1014.4000</td>\n",
       "      <td>914.6000</td>\n",
       "    </tr>\n",
       "    <tr>\n",
       "      <th>4</th>\n",
       "      <td>963.8000</td>\n",
       "      <td>948.4000</td>\n",
       "    </tr>\n",
       "    <tr>\n",
       "      <th>5</th>\n",
       "      <td>898.8000</td>\n",
       "      <td>918.0000</td>\n",
       "    </tr>\n",
       "    <tr>\n",
       "      <th>6</th>\n",
       "      <td>849.8000</td>\n",
       "      <td>841.2000</td>\n",
       "    </tr>\n",
       "  </tbody>\n",
       "</table>\n",
       "</div>"
      ],
      "text/plain": [
       "   total_sales_x  total_sales_y\n",
       "0       874.6000       841.4000\n",
       "1       924.6000       892.2000\n",
       "2       782.7000       764.0500\n",
       "3      1014.4000       914.6000\n",
       "4       963.8000       948.4000\n",
       "5       898.8000       918.0000\n",
       "6       849.8000       841.2000"
      ]
     },
     "execution_count": 53,
     "metadata": {},
     "output_type": "execute_result"
    }
   ],
   "source": [
    "df_temp"
   ]
  },
  {
   "cell_type": "code",
   "execution_count": 54,
   "metadata": {
    "collapsed": true
   },
   "outputs": [
    {
     "data": {
      "image/png": "[encoded data removed]",
      "text/plain": [
       "<Figure size 1500x500 with 1 Axes>"
      ]
     },
     "metadata": {},
     "output_type": "display_data"
    }
   ],
   "source": [
    "#### the visualization of store 86 & 155 in term of total sales\n",
    "\n",
    "plt.figure(figsize=(15,5))\n",
    "sns.lineplot(data=df_temp)\n",
    "\n",
    "plt.show()"
   ]
  },
  {
   "cell_type": "code",
   "execution_count": 55,
   "metadata": {},
   "outputs": [],
   "source": [
    "# check the viz\n",
    "df_temp = pd.merge(df_pretrial_group[df_pretrial_group['STORE_NBR'] == similar_store], \n",
    "                   df_pretrial_group[df_pretrial_group['STORE_NBR'] == treatment_store_nbr], \n",
    "                   how='inner',\n",
    "                   on='MONTH')[['n_unique_cust_x', 'n_unique_cust_y']]"
   ]
  },
  {
   "cell_type": "code",
   "execution_count": 56,
   "metadata": {
    "collapsed": true
   },
   "outputs": [
    {
     "data": {
      "text/html": [
       "<div>\n",
       "<style scoped>\n",
       "    .dataframe tbody tr th:only-of-type {\n",
       "        vertical-align: middle;\n",
       "    }\n",
       "\n",
       "    .dataframe tbody tr th {\n",
       "        vertical-align: top;\n",
       "    }\n",
       "\n",
       "    .dataframe thead th {\n",
       "        text-align: right;\n",
       "    }\n",
       "</style>\n",
       "<table border=\"1\" class=\"dataframe\">\n",
       "  <thead>\n",
       "    <tr style=\"text-align: right;\">\n",
       "      <th></th>\n",
       "      <th>n_unique_cust_x</th>\n",
       "      <th>n_unique_cust_y</th>\n",
       "    </tr>\n",
       "  </thead>\n",
       "  <tbody>\n",
       "    <tr>\n",
       "      <th>0</th>\n",
       "      <td>96</td>\n",
       "      <td>94</td>\n",
       "    </tr>\n",
       "    <tr>\n",
       "      <th>1</th>\n",
       "      <td>101</td>\n",
       "      <td>99</td>\n",
       "    </tr>\n",
       "    <tr>\n",
       "      <th>2</th>\n",
       "      <td>91</td>\n",
       "      <td>94</td>\n",
       "    </tr>\n",
       "    <tr>\n",
       "      <th>3</th>\n",
       "      <td>103</td>\n",
       "      <td>103</td>\n",
       "    </tr>\n",
       "    <tr>\n",
       "      <th>4</th>\n",
       "      <td>108</td>\n",
       "      <td>109</td>\n",
       "    </tr>\n",
       "    <tr>\n",
       "      <th>5</th>\n",
       "      <td>101</td>\n",
       "      <td>100</td>\n",
       "    </tr>\n",
       "    <tr>\n",
       "      <th>6</th>\n",
       "      <td>97</td>\n",
       "      <td>98</td>\n",
       "    </tr>\n",
       "  </tbody>\n",
       "</table>\n",
       "</div>"
      ],
      "text/plain": [
       "   n_unique_cust_x  n_unique_cust_y\n",
       "0               96               94\n",
       "1              101               99\n",
       "2               91               94\n",
       "3              103              103\n",
       "4              108              109\n",
       "5              101              100\n",
       "6               97               98"
      ]
     },
     "execution_count": 56,
     "metadata": {},
     "output_type": "execute_result"
    }
   ],
   "source": [
    "df_temp"
   ]
  },
  {
   "cell_type": "code",
   "execution_count": 57,
   "metadata": {
    "collapsed": true
   },
   "outputs": [
    {
     "data": {
      "image/png": "[encoded data removed]",
      "text/plain": [
       "<Figure size 1500x500 with 1 Axes>"
      ]
     },
     "metadata": {},
     "output_type": "display_data"
    }
   ],
   "source": [
    "#### the visualization of store 86 & 155 in term of number customers\n",
    "\n",
    "plt.figure(figsize=(15,5))\n",
    "sns.lineplot(data=df_temp)\n",
    "\n",
    "plt.show()"
   ]
  },
  {
   "cell_type": "code",
   "execution_count": 58,
   "metadata": {
    "collapsed": true
   },
   "outputs": [
    {
     "data": {
      "text/html": [
       "<div>\n",
       "<style scoped>\n",
       "    .dataframe tbody tr th:only-of-type {\n",
       "        vertical-align: middle;\n",
       "    }\n",
       "\n",
       "    .dataframe tbody tr th {\n",
       "        vertical-align: top;\n",
       "    }\n",
       "\n",
       "    .dataframe thead th {\n",
       "        text-align: right;\n",
       "    }\n",
       "</style>\n",
       "<table border=\"1\" class=\"dataframe\">\n",
       "  <thead>\n",
       "    <tr style=\"text-align: right;\">\n",
       "      <th></th>\n",
       "      <th>STORE_NBR</th>\n",
       "      <th>MONTH</th>\n",
       "      <th>total_sales</th>\n",
       "      <th>n_unique_cust</th>\n",
       "    </tr>\n",
       "  </thead>\n",
       "  <tbody>\n",
       "    <tr>\n",
       "      <th>0</th>\n",
       "      <td>1</td>\n",
       "      <td>1</td>\n",
       "      <td>154.8000</td>\n",
       "      <td>35</td>\n",
       "    </tr>\n",
       "    <tr>\n",
       "      <th>1</th>\n",
       "      <td>1</td>\n",
       "      <td>7</td>\n",
       "      <td>206.9000</td>\n",
       "      <td>49</td>\n",
       "    </tr>\n",
       "    <tr>\n",
       "      <th>2</th>\n",
       "      <td>1</td>\n",
       "      <td>8</td>\n",
       "      <td>176.1000</td>\n",
       "      <td>42</td>\n",
       "    </tr>\n",
       "    <tr>\n",
       "      <th>3</th>\n",
       "      <td>1</td>\n",
       "      <td>9</td>\n",
       "      <td>278.8000</td>\n",
       "      <td>59</td>\n",
       "    </tr>\n",
       "    <tr>\n",
       "      <th>4</th>\n",
       "      <td>1</td>\n",
       "      <td>10</td>\n",
       "      <td>188.1000</td>\n",
       "      <td>44</td>\n",
       "    </tr>\n",
       "  </tbody>\n",
       "</table>\n",
       "</div>"
      ],
      "text/plain": [
       "   STORE_NBR  MONTH  total_sales  n_unique_cust\n",
       "0          1      1     154.8000             35\n",
       "1          1      7     206.9000             49\n",
       "2          1      8     176.1000             42\n",
       "3          1      9     278.8000             59\n",
       "4          1     10     188.1000             44"
      ]
     },
     "execution_count": 58,
     "metadata": {},
     "output_type": "execute_result"
    }
   ],
   "source": [
    "df_pretrial_group.head()"
   ]
  },
  {
   "cell_type": "code",
   "execution_count": 59,
   "metadata": {},
   "outputs": [],
   "source": [
    "#### scaling factor of store 155 to the store 86 in pre-trial period\n",
    "#### this factor will be used to scale in the trial period\n",
    "\n",
    "sales_treatment = df_pretrial_group[df_pretrial_group['STORE_NBR'] == treatment_store_nbr]['total_sales'].sum()\n",
    "sales_similar_store = df_pretrial_group[df_pretrial_group['STORE_NBR'] == similar_store]['total_sales'].sum()\n",
    "\n",
    "scale = sales_treatment/sales_similar_store"
   ]
  },
  {
   "cell_type": "code",
   "execution_count": 41,
   "metadata": {},
   "outputs": [
    {
     "data": {
      "text/plain": [
       "Index(['LYLTY_CARD_NBR', 'DATE', 'STORE_NBR', 'TXN_ID', 'PROD_NBR',\n",
       "       'PROD_NAME', 'PROD_QTY', 'TOT_SALES', 'PACK_SIZE', 'BRAND', 'LIFESTAGE',\n",
       "       'PREMIUM_CUSTOMER', 'MONTH'],\n",
       "      dtype='object')"
      ]
     },
     "execution_count": 41,
     "metadata": {},
     "output_type": "execute_result"
    }
   ],
   "source": [
    "df.columns"
   ]
  },
  {
   "cell_type": "code",
   "execution_count": 60,
   "metadata": {},
   "outputs": [],
   "source": [
    "df_treatment = df[(df['STORE_NBR'] == treatment_store_nbr) &\\\n",
    "                  (df['DATE'] > pd.to_datetime('2019-01-31', format='%Y-%m-%d')) &\\\n",
    "                  (df['DATE'] < pd.to_datetime('2019-05-01', format='%Y-%m-%d'))][['TOT_SALES', 'DATE']].set_index('DATE')\n",
    "df_treatment = df_treatment.resample(rule='D').agg([np.sum])"
   ]
  },
  {
   "cell_type": "code",
   "execution_count": 61,
   "metadata": {},
   "outputs": [],
   "source": [
    "df_similar = df[(df['STORE_NBR'] == similar_store) &\\\n",
    "                  (df['DATE'] > pd.to_datetime('2019-01-31', format='%Y-%m-%d')) &\\\n",
    "                  (df['DATE'] < pd.to_datetime('2019-05-01', format='%Y-%m-%d'))][['TOT_SALES', 'DATE']].set_index('DATE')\n",
    "df_similar = df_similar.resample(rule='D').agg([np.sum])"
   ]
  },
  {
   "cell_type": "code",
   "execution_count": 62,
   "metadata": {},
   "outputs": [
    {
     "data": {
      "text/plain": [
       "Ttest_indResult(statistic=-1.5811722922980058, pvalue=0.11563408100604021)"
      ]
     },
     "execution_count": 62,
     "metadata": {},
     "output_type": "execute_result"
    }
   ],
   "source": [
    "from scipy.stats import ttest_ind\n",
    "\n",
    "#### H0: there is no difference of daily sales between treatment store & similar store in the trial period\n",
    "#### HA: there is a difference of daily sales between treatment store & similar store in the trial period\n",
    "\n",
    "ttest_ind(df_similar[('TOT_SALES', 'sum')].values*scale, \n",
    "         df_treatment[('TOT_SALES', 'sum')].values)\n",
    "\n",
    "#### The result show there is no statistically significant difference"
   ]
  },
  {
   "cell_type": "code",
   "execution_count": null,
   "metadata": {},
   "outputs": [],
   "source": []
  },
  {
   "cell_type": "markdown",
   "metadata": {},
   "source": [
    "## Analysis for Store 88"
   ]
  },
  {
   "cell_type": "code",
   "execution_count": 84,
   "metadata": {},
   "outputs": [],
   "source": [
    "#### calculate the correlation of total sales & number of customers for each store & treatment store\n",
    "#### calculate the difference in magnitude of total sales & number of customers for each store & treatment store\n",
    "\n",
    "#### store_a | store_b | corr_sales | corr_cust | diff_mag_sales | diff_mag_cust\n",
    "\n",
    "store_a = []\n",
    "store_b = []\n",
    "corr_sales = []\n",
    "corr_cust = []\n",
    "diff_mag_sales = []\n",
    "diff_mag_cust = []\n",
    "\n",
    "store_nbrs = [store_nbr for store_nbr in df_pretrial_group['STORE_NBR'].unique()]\n",
    "treatment_store_nbr = 88\n",
    "\n",
    "for store_nbr in store_nbrs:\n",
    "    df_temp = pd.merge(df_pretrial_group[df_pretrial_group['STORE_NBR'] == treatment_store_nbr], \n",
    "                       df_pretrial_group[df_pretrial_group['STORE_NBR'] == store_nbr],\n",
    "                       how='inner',\n",
    "                       on='MONTH')\n",
    "    \n",
    "    col_corr_sales = df_temp[['total_sales_x', 'total_sales_y']].corr().loc['total_sales_x', 'total_sales_y']\n",
    "    col_corr_cust = df_temp[['n_unique_cust_x', 'n_unique_cust_y']].corr().loc['n_unique_cust_x', 'n_unique_cust_y']\n",
    "    col_diff_mag_sales = np.abs(df_temp['total_sales_x'].mean() - df_temp['total_sales_y'].mean())\n",
    "    col_diff_mag_cust = np.abs(df_temp['n_unique_cust_x'].mean() - df_temp['n_unique_cust_y'].mean())\n",
    "    \n",
    "    store_a.append(treatment_store_nbr)\n",
    "    store_b.append(store_nbr)\n",
    "    corr_sales.append(col_corr_sales)\n",
    "    corr_cust.append(col_corr_cust)\n",
    "    diff_mag_sales.append(col_diff_mag_sales)\n",
    "    diff_mag_cust.append(col_diff_mag_cust)"
   ]
  },
  {
   "cell_type": "code",
   "execution_count": 85,
   "metadata": {},
   "outputs": [],
   "source": [
    "summary = pd.DataFrame()\n",
    "summary['store_a'] = store_a\n",
    "summary['store_b'] = store_b\n",
    "summary['corr_sales'] = corr_sales\n",
    "summary['corr_cust'] = corr_cust\n",
    "summary['diff_mag_sales'] = diff_mag_sales\n",
    "summary['diff_mag_cust'] = diff_mag_cust"
   ]
  },
  {
   "cell_type": "code",
   "execution_count": 65,
   "metadata": {
    "collapsed": true
   },
   "outputs": [
    {
     "data": {
      "text/html": [
       "<div>\n",
       "<style scoped>\n",
       "    .dataframe tbody tr th:only-of-type {\n",
       "        vertical-align: middle;\n",
       "    }\n",
       "\n",
       "    .dataframe tbody tr th {\n",
       "        vertical-align: top;\n",
       "    }\n",
       "\n",
       "    .dataframe thead th {\n",
       "        text-align: right;\n",
       "    }\n",
       "</style>\n",
       "<table border=\"1\" class=\"dataframe\">\n",
       "  <thead>\n",
       "    <tr style=\"text-align: right;\">\n",
       "      <th></th>\n",
       "      <th>store_a</th>\n",
       "      <th>store_b</th>\n",
       "      <th>corr_sales</th>\n",
       "      <th>corr_cust</th>\n",
       "      <th>diff_mag_sales</th>\n",
       "      <th>diff_mag_cust</th>\n",
       "    </tr>\n",
       "  </thead>\n",
       "  <tbody>\n",
       "    <tr>\n",
       "      <th>0</th>\n",
       "      <td>88</td>\n",
       "      <td>1</td>\n",
       "      <td>0.8136</td>\n",
       "      <td>0.3053</td>\n",
       "      <td>1142.3857</td>\n",
       "      <td>80.4286</td>\n",
       "    </tr>\n",
       "    <tr>\n",
       "      <th>1</th>\n",
       "      <td>88</td>\n",
       "      <td>2</td>\n",
       "      <td>-0.0679</td>\n",
       "      <td>-0.4524</td>\n",
       "      <td>1179.3000</td>\n",
       "      <td>86.8571</td>\n",
       "    </tr>\n",
       "    <tr>\n",
       "      <th>2</th>\n",
       "      <td>88</td>\n",
       "      <td>3</td>\n",
       "      <td>-0.5078</td>\n",
       "      <td>0.5229</td>\n",
       "      <td>265.3500</td>\n",
       "      <td>19.4286</td>\n",
       "    </tr>\n",
       "    <tr>\n",
       "      <th>3</th>\n",
       "      <td>88</td>\n",
       "      <td>4</td>\n",
       "      <td>-0.7456</td>\n",
       "      <td>-0.3615</td>\n",
       "      <td>36.6571</td>\n",
       "      <td>4.4286</td>\n",
       "    </tr>\n",
       "    <tr>\n",
       "      <th>4</th>\n",
       "      <td>88</td>\n",
       "      <td>5</td>\n",
       "      <td>0.1903</td>\n",
       "      <td>-0.0253</td>\n",
       "      <td>520.5571</td>\n",
       "      <td>32.7143</td>\n",
       "    </tr>\n",
       "    <tr>\n",
       "      <th>5</th>\n",
       "      <td>88</td>\n",
       "      <td>6</td>\n",
       "      <td>0.2334</td>\n",
       "      <td>0.5315</td>\n",
       "      <td>1109.2571</td>\n",
       "      <td>82.1429</td>\n",
       "    </tr>\n",
       "    <tr>\n",
       "      <th>6</th>\n",
       "      <td>88</td>\n",
       "      <td>7</td>\n",
       "      <td>0.6497</td>\n",
       "      <td>0.1939</td>\n",
       "      <td>295.7286</td>\n",
       "      <td>20.5714</td>\n",
       "    </tr>\n",
       "    <tr>\n",
       "      <th>7</th>\n",
       "      <td>88</td>\n",
       "      <td>8</td>\n",
       "      <td>-0.8163</td>\n",
       "      <td>-0.3017</td>\n",
       "      <td>964.6571</td>\n",
       "      <td>84.4286</td>\n",
       "    </tr>\n",
       "    <tr>\n",
       "      <th>8</th>\n",
       "      <td>88</td>\n",
       "      <td>9</td>\n",
       "      <td>0.0738</td>\n",
       "      <td>-0.5862</td>\n",
       "      <td>982.7571</td>\n",
       "      <td>69.7143</td>\n",
       "    </tr>\n",
       "    <tr>\n",
       "      <th>9</th>\n",
       "      <td>88</td>\n",
       "      <td>10</td>\n",
       "      <td>0.5702</td>\n",
       "      <td>-0.1961</td>\n",
       "      <td>436.7071</td>\n",
       "      <td>24.1429</td>\n",
       "    </tr>\n",
       "  </tbody>\n",
       "</table>\n",
       "</div>"
      ],
      "text/plain": [
       "   store_a  store_b  corr_sales  corr_cust  diff_mag_sales  diff_mag_cust\n",
       "0       88        1      0.8136     0.3053       1142.3857        80.4286\n",
       "1       88        2     -0.0679    -0.4524       1179.3000        86.8571\n",
       "2       88        3     -0.5078     0.5229        265.3500        19.4286\n",
       "3       88        4     -0.7456    -0.3615         36.6571         4.4286\n",
       "4       88        5      0.1903    -0.0253        520.5571        32.7143\n",
       "5       88        6      0.2334     0.5315       1109.2571        82.1429\n",
       "6       88        7      0.6497     0.1939        295.7286        20.5714\n",
       "7       88        8     -0.8163    -0.3017        964.6571        84.4286\n",
       "8       88        9      0.0738    -0.5862        982.7571        69.7143\n",
       "9       88       10      0.5702    -0.1961        436.7071        24.1429"
      ]
     },
     "execution_count": 65,
     "metadata": {},
     "output_type": "execute_result"
    }
   ],
   "source": [
    "summary.head(10)"
   ]
  },
  {
   "cell_type": "code",
   "execution_count": 86,
   "metadata": {},
   "outputs": [],
   "source": [
    "#### combine the correlaiton & difference in magnitude -> to decide which store is the most similar to the treatment store\n",
    "#### equal weight in combination\n",
    "\n",
    "summary['rank_diff_mag_sales'] = summary['diff_mag_sales'].rank(ascending=False)\n",
    "summary['rank_diff_mag_cust'] = summary['diff_mag_cust'].rank(ascending=False)\n",
    "\n",
    "scaler = MinMaxScaler()\n",
    "summary['corr_sales_scaled'] = scaler.fit_transform(summary[['corr_sales']])\n",
    "summary['corr_cust_scaled'] = scaler.fit_transform(summary[['corr_cust']])\n",
    "summary['diff_mag_sales_scaled'] = scaler.fit_transform(summary[['rank_diff_mag_sales']])\n",
    "summary['diff_mag_cust_scaled'] = scaler.fit_transform(summary[['rank_diff_mag_cust']])"
   ]
  },
  {
   "cell_type": "code",
   "execution_count": 87,
   "metadata": {},
   "outputs": [],
   "source": [
    "summary['sales_rank'] = (summary['corr_sales_scaled'] + summary['diff_mag_sales_scaled'])/2\n",
    "summary['cust_rank'] = (summary['corr_cust_scaled'] + summary['diff_mag_cust_scaled'])/2\n",
    "summary['rank'] = (summary['sales_rank'] + summary['cust_rank'])/2"
   ]
  },
  {
   "cell_type": "code",
   "execution_count": 68,
   "metadata": {
    "collapsed": true
   },
   "outputs": [
    {
     "data": {
      "text/html": [
       "<div>\n",
       "<style scoped>\n",
       "    .dataframe tbody tr th:only-of-type {\n",
       "        vertical-align: middle;\n",
       "    }\n",
       "\n",
       "    .dataframe tbody tr th {\n",
       "        vertical-align: top;\n",
       "    }\n",
       "\n",
       "    .dataframe thead th {\n",
       "        text-align: right;\n",
       "    }\n",
       "</style>\n",
       "<table border=\"1\" class=\"dataframe\">\n",
       "  <thead>\n",
       "    <tr style=\"text-align: right;\">\n",
       "      <th></th>\n",
       "      <th>store_a</th>\n",
       "      <th>store_b</th>\n",
       "      <th>corr_sales</th>\n",
       "      <th>corr_cust</th>\n",
       "      <th>diff_mag_sales</th>\n",
       "      <th>diff_mag_cust</th>\n",
       "      <th>rank_diff_mag_sales</th>\n",
       "      <th>rank_diff_mag_cust</th>\n",
       "      <th>corr_sales_scaled</th>\n",
       "      <th>corr_cust_scaled</th>\n",
       "      <th>diff_mag_sales_scaled</th>\n",
       "      <th>diff_mag_cust_scaled</th>\n",
       "      <th>sales_rank</th>\n",
       "      <th>cust_rank</th>\n",
       "      <th>rank</th>\n",
       "    </tr>\n",
       "  </thead>\n",
       "  <tbody>\n",
       "    <tr>\n",
       "      <th>0</th>\n",
       "      <td>88</td>\n",
       "      <td>1</td>\n",
       "      <td>0.8136</td>\n",
       "      <td>0.3053</td>\n",
       "      <td>1142.3857</td>\n",
       "      <td>80.4286</td>\n",
       "      <td>53.0000</td>\n",
       "      <td>102.0000</td>\n",
       "      <td>0.9068</td>\n",
       "      <td>0.6215</td>\n",
       "      <td>0.1926</td>\n",
       "      <td>0.3741</td>\n",
       "      <td>0.5497</td>\n",
       "      <td>0.4978</td>\n",
       "      <td>0.5238</td>\n",
       "    </tr>\n",
       "    <tr>\n",
       "      <th>1</th>\n",
       "      <td>88</td>\n",
       "      <td>2</td>\n",
       "      <td>-0.0679</td>\n",
       "      <td>-0.4524</td>\n",
       "      <td>1179.3000</td>\n",
       "      <td>86.8571</td>\n",
       "      <td>44.0000</td>\n",
       "      <td>52.0000</td>\n",
       "      <td>0.4660</td>\n",
       "      <td>0.2087</td>\n",
       "      <td>0.1593</td>\n",
       "      <td>0.1889</td>\n",
       "      <td>0.3126</td>\n",
       "      <td>0.1988</td>\n",
       "      <td>0.2557</td>\n",
       "    </tr>\n",
       "    <tr>\n",
       "      <th>2</th>\n",
       "      <td>88</td>\n",
       "      <td>3</td>\n",
       "      <td>-0.5078</td>\n",
       "      <td>0.5229</td>\n",
       "      <td>265.3500</td>\n",
       "      <td>19.4286</td>\n",
       "      <td>239.0000</td>\n",
       "      <td>221.5000</td>\n",
       "      <td>0.2461</td>\n",
       "      <td>0.7401</td>\n",
       "      <td>0.8815</td>\n",
       "      <td>0.8167</td>\n",
       "      <td>0.5638</td>\n",
       "      <td>0.7784</td>\n",
       "      <td>0.6711</td>\n",
       "    </tr>\n",
       "    <tr>\n",
       "      <th>3</th>\n",
       "      <td>88</td>\n",
       "      <td>4</td>\n",
       "      <td>-0.7456</td>\n",
       "      <td>-0.3615</td>\n",
       "      <td>36.6571</td>\n",
       "      <td>4.4286</td>\n",
       "      <td>267.0000</td>\n",
       "      <td>266.0000</td>\n",
       "      <td>0.1272</td>\n",
       "      <td>0.2582</td>\n",
       "      <td>0.9852</td>\n",
       "      <td>0.9815</td>\n",
       "      <td>0.5562</td>\n",
       "      <td>0.6198</td>\n",
       "      <td>0.5880</td>\n",
       "    </tr>\n",
       "    <tr>\n",
       "      <th>4</th>\n",
       "      <td>88</td>\n",
       "      <td>5</td>\n",
       "      <td>0.1903</td>\n",
       "      <td>-0.0253</td>\n",
       "      <td>520.5571</td>\n",
       "      <td>32.7143</td>\n",
       "      <td>156.0000</td>\n",
       "      <td>151.0000</td>\n",
       "      <td>0.5952</td>\n",
       "      <td>0.4414</td>\n",
       "      <td>0.5741</td>\n",
       "      <td>0.5556</td>\n",
       "      <td>0.5846</td>\n",
       "      <td>0.4985</td>\n",
       "      <td>0.5415</td>\n",
       "    </tr>\n",
       "  </tbody>\n",
       "</table>\n",
       "</div>"
      ],
      "text/plain": [
       "   store_a  store_b  corr_sales  corr_cust  diff_mag_sales  diff_mag_cust  \\\n",
       "0       88        1      0.8136     0.3053       1142.3857        80.4286   \n",
       "1       88        2     -0.0679    -0.4524       1179.3000        86.8571   \n",
       "2       88        3     -0.5078     0.5229        265.3500        19.4286   \n",
       "3       88        4     -0.7456    -0.3615         36.6571         4.4286   \n",
       "4       88        5      0.1903    -0.0253        520.5571        32.7143   \n",
       "\n",
       "   rank_diff_mag_sales  rank_diff_mag_cust  corr_sales_scaled  \\\n",
       "0              53.0000            102.0000             0.9068   \n",
       "1              44.0000             52.0000             0.4660   \n",
       "2             239.0000            221.5000             0.2461   \n",
       "3             267.0000            266.0000             0.1272   \n",
       "4             156.0000            151.0000             0.5952   \n",
       "\n",
       "   corr_cust_scaled  diff_mag_sales_scaled  diff_mag_cust_scaled  sales_rank  \\\n",
       "0            0.6215                 0.1926                0.3741      0.5497   \n",
       "1            0.2087                 0.1593                0.1889      0.3126   \n",
       "2            0.7401                 0.8815                0.8167      0.5638   \n",
       "3            0.2582                 0.9852                0.9815      0.5562   \n",
       "4            0.4414                 0.5741                0.5556      0.5846   \n",
       "\n",
       "   cust_rank   rank  \n",
       "0     0.4978 0.5238  \n",
       "1     0.1988 0.2557  \n",
       "2     0.7784 0.6711  \n",
       "3     0.6198 0.5880  \n",
       "4     0.4985 0.5415  "
      ]
     },
     "execution_count": 68,
     "metadata": {},
     "output_type": "execute_result"
    }
   ],
   "source": [
    "summary.head()"
   ]
  },
  {
   "cell_type": "code",
   "execution_count": 88,
   "metadata": {},
   "outputs": [],
   "source": [
    "rank = summary.groupby(['store_a', 'store_b']).agg({'rank': np.sum}).sort_values('rank', ascending=False)"
   ]
  },
  {
   "cell_type": "code",
   "execution_count": 89,
   "metadata": {},
   "outputs": [
    {
     "data": {
      "text/plain": [
       "237"
      ]
     },
     "execution_count": 89,
     "metadata": {},
     "output_type": "execute_result"
    }
   ],
   "source": [
    "rank.columns = ['similarity']\n",
    "similar_store = int(rank.reset_index().iloc[1].store_b)\n",
    "similar_store\n",
    "#### store 237 is the most similiar one with store 88"
   ]
  },
  {
   "cell_type": "code",
   "execution_count": 72,
   "metadata": {},
   "outputs": [],
   "source": [
    "# check the viz\n",
    "\n",
    "df_temp = pd.merge(df_pretrial_group[df_pretrial_group['STORE_NBR'] == similar_store], \n",
    "                   df_pretrial_group[df_pretrial_group['STORE_NBR'] == treatment_store_nbr], \n",
    "                   how='inner',\n",
    "                   on='MONTH')[['total_sales_x', 'total_sales_y']]"
   ]
  },
  {
   "cell_type": "code",
   "execution_count": 73,
   "metadata": {
    "collapsed": true
   },
   "outputs": [
    {
     "data": {
      "text/html": [
       "<div>\n",
       "<style scoped>\n",
       "    .dataframe tbody tr th:only-of-type {\n",
       "        vertical-align: middle;\n",
       "    }\n",
       "\n",
       "    .dataframe tbody tr th {\n",
       "        vertical-align: top;\n",
       "    }\n",
       "\n",
       "    .dataframe thead th {\n",
       "        text-align: right;\n",
       "    }\n",
       "</style>\n",
       "<table border=\"1\" class=\"dataframe\">\n",
       "  <thead>\n",
       "    <tr style=\"text-align: right;\">\n",
       "      <th></th>\n",
       "      <th>total_sales_x</th>\n",
       "      <th>total_sales_y</th>\n",
       "    </tr>\n",
       "  </thead>\n",
       "  <tbody>\n",
       "    <tr>\n",
       "      <th>0</th>\n",
       "      <td>1219.7000</td>\n",
       "      <td>1266.4000</td>\n",
       "    </tr>\n",
       "    <tr>\n",
       "      <th>1</th>\n",
       "      <td>1448.4000</td>\n",
       "      <td>1310.0000</td>\n",
       "    </tr>\n",
       "    <tr>\n",
       "      <th>2</th>\n",
       "      <td>1367.8000</td>\n",
       "      <td>1323.8000</td>\n",
       "    </tr>\n",
       "    <tr>\n",
       "      <th>3</th>\n",
       "      <td>1322.2000</td>\n",
       "      <td>1423.0000</td>\n",
       "    </tr>\n",
       "    <tr>\n",
       "      <th>4</th>\n",
       "      <td>1348.3000</td>\n",
       "      <td>1352.4000</td>\n",
       "    </tr>\n",
       "    <tr>\n",
       "      <th>5</th>\n",
       "      <td>1397.6000</td>\n",
       "      <td>1382.8000</td>\n",
       "    </tr>\n",
       "    <tr>\n",
       "      <th>6</th>\n",
       "      <td>1265.0000</td>\n",
       "      <td>1325.2000</td>\n",
       "    </tr>\n",
       "  </tbody>\n",
       "</table>\n",
       "</div>"
      ],
      "text/plain": [
       "   total_sales_x  total_sales_y\n",
       "0      1219.7000      1266.4000\n",
       "1      1448.4000      1310.0000\n",
       "2      1367.8000      1323.8000\n",
       "3      1322.2000      1423.0000\n",
       "4      1348.3000      1352.4000\n",
       "5      1397.6000      1382.8000\n",
       "6      1265.0000      1325.2000"
      ]
     },
     "execution_count": 73,
     "metadata": {},
     "output_type": "execute_result"
    }
   ],
   "source": [
    "df_temp"
   ]
  },
  {
   "cell_type": "code",
   "execution_count": 74,
   "metadata": {
    "collapsed": true
   },
   "outputs": [
    {
     "data": {
      "image/png": "[encoded data removed]",
      "text/plain": [
       "<Figure size 1500x500 with 1 Axes>"
      ]
     },
     "metadata": {},
     "output_type": "display_data"
    }
   ],
   "source": [
    "#### the visualization of store 88 & 237 in term of total sales\n",
    "\n",
    "plt.figure(figsize=(15,5))\n",
    "sns.lineplot(data=df_temp)\n",
    "\n",
    "plt.show()"
   ]
  },
  {
   "cell_type": "code",
   "execution_count": 75,
   "metadata": {},
   "outputs": [],
   "source": [
    "# check the viz\n",
    "df_temp = pd.merge(df_pretrial_group[df_pretrial_group['STORE_NBR'] == similar_store], \n",
    "                   df_pretrial_group[df_pretrial_group['STORE_NBR'] == treatment_store_nbr], \n",
    "                   how='inner',\n",
    "                   on='MONTH')[['n_unique_cust_x', 'n_unique_cust_y']]"
   ]
  },
  {
   "cell_type": "code",
   "execution_count": 76,
   "metadata": {
    "collapsed": true
   },
   "outputs": [
    {
     "data": {
      "text/html": [
       "<div>\n",
       "<style scoped>\n",
       "    .dataframe tbody tr th:only-of-type {\n",
       "        vertical-align: middle;\n",
       "    }\n",
       "\n",
       "    .dataframe tbody tr th {\n",
       "        vertical-align: top;\n",
       "    }\n",
       "\n",
       "    .dataframe thead th {\n",
       "        text-align: right;\n",
       "    }\n",
       "</style>\n",
       "<table border=\"1\" class=\"dataframe\">\n",
       "  <thead>\n",
       "    <tr style=\"text-align: right;\">\n",
       "      <th></th>\n",
       "      <th>n_unique_cust_x</th>\n",
       "      <th>n_unique_cust_y</th>\n",
       "    </tr>\n",
       "  </thead>\n",
       "  <tbody>\n",
       "    <tr>\n",
       "      <th>0</th>\n",
       "      <td>117</td>\n",
       "      <td>117</td>\n",
       "    </tr>\n",
       "    <tr>\n",
       "      <th>1</th>\n",
       "      <td>128</td>\n",
       "      <td>129</td>\n",
       "    </tr>\n",
       "    <tr>\n",
       "      <th>2</th>\n",
       "      <td>135</td>\n",
       "      <td>131</td>\n",
       "    </tr>\n",
       "    <tr>\n",
       "      <th>3</th>\n",
       "      <td>126</td>\n",
       "      <td>124</td>\n",
       "    </tr>\n",
       "    <tr>\n",
       "      <th>4</th>\n",
       "      <td>123</td>\n",
       "      <td>123</td>\n",
       "    </tr>\n",
       "    <tr>\n",
       "      <th>5</th>\n",
       "      <td>132</td>\n",
       "      <td>130</td>\n",
       "    </tr>\n",
       "    <tr>\n",
       "      <th>6</th>\n",
       "      <td>124</td>\n",
       "      <td>126</td>\n",
       "    </tr>\n",
       "  </tbody>\n",
       "</table>\n",
       "</div>"
      ],
      "text/plain": [
       "   n_unique_cust_x  n_unique_cust_y\n",
       "0              117              117\n",
       "1              128              129\n",
       "2              135              131\n",
       "3              126              124\n",
       "4              123              123\n",
       "5              132              130\n",
       "6              124              126"
      ]
     },
     "execution_count": 76,
     "metadata": {},
     "output_type": "execute_result"
    }
   ],
   "source": [
    "df_temp"
   ]
  },
  {
   "cell_type": "code",
   "execution_count": 77,
   "metadata": {
    "collapsed": true
   },
   "outputs": [
    {
     "data": {
      "image/png": "[encoded data removed]",
      "text/plain": [
       "<Figure size 1500x500 with 1 Axes>"
      ]
     },
     "metadata": {},
     "output_type": "display_data"
    }
   ],
   "source": [
    "#### the visualization of store 88 & 237 in term of number customers\n",
    "\n",
    "plt.figure(figsize=(15,5))\n",
    "sns.lineplot(data=df_temp)\n",
    "\n",
    "plt.show()"
   ]
  },
  {
   "cell_type": "code",
   "execution_count": 78,
   "metadata": {
    "collapsed": true
   },
   "outputs": [
    {
     "data": {
      "text/html": [
       "<div>\n",
       "<style scoped>\n",
       "    .dataframe tbody tr th:only-of-type {\n",
       "        vertical-align: middle;\n",
       "    }\n",
       "\n",
       "    .dataframe tbody tr th {\n",
       "        vertical-align: top;\n",
       "    }\n",
       "\n",
       "    .dataframe thead th {\n",
       "        text-align: right;\n",
       "    }\n",
       "</style>\n",
       "<table border=\"1\" class=\"dataframe\">\n",
       "  <thead>\n",
       "    <tr style=\"text-align: right;\">\n",
       "      <th></th>\n",
       "      <th>STORE_NBR</th>\n",
       "      <th>MONTH</th>\n",
       "      <th>total_sales</th>\n",
       "      <th>n_unique_cust</th>\n",
       "    </tr>\n",
       "  </thead>\n",
       "  <tbody>\n",
       "    <tr>\n",
       "      <th>0</th>\n",
       "      <td>1</td>\n",
       "      <td>1</td>\n",
       "      <td>154.8000</td>\n",
       "      <td>35</td>\n",
       "    </tr>\n",
       "    <tr>\n",
       "      <th>1</th>\n",
       "      <td>1</td>\n",
       "      <td>7</td>\n",
       "      <td>206.9000</td>\n",
       "      <td>49</td>\n",
       "    </tr>\n",
       "    <tr>\n",
       "      <th>2</th>\n",
       "      <td>1</td>\n",
       "      <td>8</td>\n",
       "      <td>176.1000</td>\n",
       "      <td>42</td>\n",
       "    </tr>\n",
       "    <tr>\n",
       "      <th>3</th>\n",
       "      <td>1</td>\n",
       "      <td>9</td>\n",
       "      <td>278.8000</td>\n",
       "      <td>59</td>\n",
       "    </tr>\n",
       "    <tr>\n",
       "      <th>4</th>\n",
       "      <td>1</td>\n",
       "      <td>10</td>\n",
       "      <td>188.1000</td>\n",
       "      <td>44</td>\n",
       "    </tr>\n",
       "  </tbody>\n",
       "</table>\n",
       "</div>"
      ],
      "text/plain": [
       "   STORE_NBR  MONTH  total_sales  n_unique_cust\n",
       "0          1      1     154.8000             35\n",
       "1          1      7     206.9000             49\n",
       "2          1      8     176.1000             42\n",
       "3          1      9     278.8000             59\n",
       "4          1     10     188.1000             44"
      ]
     },
     "execution_count": 78,
     "metadata": {},
     "output_type": "execute_result"
    }
   ],
   "source": [
    "df_pretrial_group.head()"
   ]
  },
  {
   "cell_type": "code",
   "execution_count": 90,
   "metadata": {},
   "outputs": [],
   "source": [
    "#### scaling factor of store 233 to the store 77 in pre-trial period\n",
    "#### this factor will be used to scale in the trial period\n",
    "\n",
    "sales_treatment = df_pretrial_group[df_pretrial_group['STORE_NBR'] == treatment_store_nbr]['total_sales'].sum()\n",
    "sales_similar_store = df_pretrial_group[df_pretrial_group['STORE_NBR'] == similar_store]['total_sales'].sum()\n",
    "\n",
    "scale = sales_treatment/sales_similar_store"
   ]
  },
  {
   "cell_type": "code",
   "execution_count": 80,
   "metadata": {},
   "outputs": [
    {
     "data": {
      "text/plain": [
       "Index(['LYLTY_CARD_NBR', 'DATE', 'STORE_NBR', 'TXN_ID', 'PROD_NBR',\n",
       "       'PROD_NAME', 'PROD_QTY', 'TOT_SALES', 'PACK_SIZE', 'BRAND', 'LIFESTAGE',\n",
       "       'PREMIUM_CUSTOMER', 'MONTH'],\n",
       "      dtype='object')"
      ]
     },
     "execution_count": 80,
     "metadata": {},
     "output_type": "execute_result"
    }
   ],
   "source": [
    "df.columns"
   ]
  },
  {
   "cell_type": "code",
   "execution_count": 91,
   "metadata": {},
   "outputs": [],
   "source": [
    "df_treatment = df[(df['STORE_NBR'] == treatment_store_nbr) &\\\n",
    "                  (df['DATE'] > pd.to_datetime('2019-01-31', format='%Y-%m-%d')) &\\\n",
    "                  (df['DATE'] < pd.to_datetime('2019-05-01', format='%Y-%m-%d'))][['TOT_SALES', 'DATE']].set_index('DATE')\n",
    "df_treatment = df_treatment.resample(rule='D').agg([np.sum])"
   ]
  },
  {
   "cell_type": "code",
   "execution_count": 92,
   "metadata": {},
   "outputs": [],
   "source": [
    "df_similar = df[(df['STORE_NBR'] == similar_store) &\\\n",
    "                  (df['DATE'] > pd.to_datetime('2019-01-31', format='%Y-%m-%d')) &\\\n",
    "                  (df['DATE'] < pd.to_datetime('2019-05-01', format='%Y-%m-%d'))][['TOT_SALES', 'DATE']].set_index('DATE')\n",
    "df_similar = df_similar.resample(rule='D').agg([np.sum])"
   ]
  },
  {
   "cell_type": "code",
   "execution_count": 93,
   "metadata": {},
   "outputs": [
    {
     "data": {
      "text/plain": [
       "Ttest_indResult(statistic=-1.6944937913978515, pvalue=0.09194018767109158)"
      ]
     },
     "execution_count": 93,
     "metadata": {},
     "output_type": "execute_result"
    }
   ],
   "source": [
    "from scipy.stats import ttest_ind\n",
    "\n",
    "#### H0: there is no difference of daily sales between treatment store & similar store in the trial period\n",
    "#### HA: there is a difference of daily sales between treatment store & similar store in the trial period\n",
    "\n",
    "\n",
    "ttest_ind(df_similar[('TOT_SALES', 'sum')].values*scale, \n",
    "         df_treatment[('TOT_SALES', 'sum')].values)\n",
    "\n",
    "#### The result show there is no statistically significant difference"
   ]
  },
  {
   "cell_type": "code",
   "execution_count": null,
   "metadata": {},
   "outputs": [],
   "source": []
  }
 ],
 "metadata": {
  "kernelspec": {
   "display_name": "Python [conda env:ml_env]",
   "language": "python",
   "name": "conda-env-ml_env-py"
  },
  "language_info": {
   "codemirror_mode": {
    "name": "ipython",
    "version": 3
   },
   "file_extension": ".py",
   "mimetype": "text/x-python",
   "name": "python",
   "nbconvert_exporter": "python",
   "pygments_lexer": "ipython3",
   "version": "3.9.13"
  }
 },
 "nbformat": 4,
 "nbformat_minor": 5
}
